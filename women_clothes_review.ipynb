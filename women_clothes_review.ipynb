{
 "cells": [
  {
   "cell_type": "markdown",
   "metadata": {},
   "source": [
    "## Women's E-Commerce Clothing Reviews\n",
    "\n",
    "Prepared by Debora Callegari"
   ]
  },
  {
   "cell_type": "markdown",
   "metadata": {},
   "source": [
    "### Imports"
   ]
  },
  {
   "cell_type": "code",
   "execution_count": 1,
   "metadata": {},
   "outputs": [],
   "source": [
    "#Importing the necessary packages:\n",
    "\n",
    "# Basic libraries\n",
    "import numpy as np\n",
    "import pandas as pd\n",
    "\n",
    "# Graphs\n",
    "import seaborn as sns\n",
    "import matplotlib.pyplot as plt\n",
    "%matplotlib inline\n",
    "\n",
    "# WordCloud\n",
    "from os import path\n",
    "from wordcloud import WordCloud, STOPWORDS, ImageColorGenerator\n",
    "\n",
    "# Text preprocessing\n",
    "import nltk\n",
    "import string\n",
    "from nltk.corpus import stopwords\n",
    "from sklearn.feature_extraction.text import CountVectorizer\n",
    "from sklearn.feature_extraction.text import TfidfTransformer\n",
    "\n",
    "# Model and evaluation\n",
    "from sklearn.linear_model import LinearRegression\n",
    "from sklearn.model_selection import train_test_split\n",
    "from sklearn import metrics\n",
    "from sklearn.metrics import r2_score\n",
    "from sklearn.metrics import mean_squared_error\n",
    "from math import sqrt\n",
    "\n",
    "# Regularization of Linear Model\n",
    "from sklearn.linear_model import Ridge\n",
    "\n",
    "# Ignoring the warnings\n",
    "import warnings\n",
    "warnings.filterwarnings('ignore')"
   ]
  },
  {
   "cell_type": "markdown",
   "metadata": {},
   "source": [
    "### Introduction"
   ]
  },
  {
   "cell_type": "markdown",
   "metadata": {},
   "source": [
    "In this Notebook, text reviews written by customers taken from [Kaggle](https://www.kaggle.com/nicapotato/womens-ecommerce-clothing-reviews) will be analyzed to predict the scores for women's clothes using Regression model."
   ]
  },
  {
   "cell_type": "markdown",
   "metadata": {},
   "source": [
    "### Step 1: Loading data"
   ]
  },
  {
   "cell_type": "code",
   "execution_count": 2,
   "metadata": {},
   "outputs": [],
   "source": [
    "# Loading data from csv file\n",
    "data = pd.read_csv('data/Womens Clothing E-Commerce Reviews.csv', index_col=0)"
   ]
  },
  {
   "cell_type": "code",
   "execution_count": 3,
   "metadata": {
    "scrolled": false
   },
   "outputs": [
    {
     "data": {
      "text/html": [
       "<div>\n",
       "<style scoped>\n",
       "    .dataframe tbody tr th:only-of-type {\n",
       "        vertical-align: middle;\n",
       "    }\n",
       "\n",
       "    .dataframe tbody tr th {\n",
       "        vertical-align: top;\n",
       "    }\n",
       "\n",
       "    .dataframe thead th {\n",
       "        text-align: right;\n",
       "    }\n",
       "</style>\n",
       "<table border=\"1\" class=\"dataframe\">\n",
       "  <thead>\n",
       "    <tr style=\"text-align: right;\">\n",
       "      <th></th>\n",
       "      <th>Clothing ID</th>\n",
       "      <th>Age</th>\n",
       "      <th>Title</th>\n",
       "      <th>Review Text</th>\n",
       "      <th>Rating</th>\n",
       "      <th>Recommended IND</th>\n",
       "      <th>Positive Feedback Count</th>\n",
       "      <th>Division Name</th>\n",
       "      <th>Department Name</th>\n",
       "      <th>Class Name</th>\n",
       "    </tr>\n",
       "  </thead>\n",
       "  <tbody>\n",
       "    <tr>\n",
       "      <th>0</th>\n",
       "      <td>767</td>\n",
       "      <td>33</td>\n",
       "      <td>NaN</td>\n",
       "      <td>Absolutely wonderful - silky and sexy and comf...</td>\n",
       "      <td>4</td>\n",
       "      <td>1</td>\n",
       "      <td>0</td>\n",
       "      <td>Initmates</td>\n",
       "      <td>Intimate</td>\n",
       "      <td>Intimates</td>\n",
       "    </tr>\n",
       "    <tr>\n",
       "      <th>1</th>\n",
       "      <td>1080</td>\n",
       "      <td>34</td>\n",
       "      <td>NaN</td>\n",
       "      <td>Love this dress!  it's sooo pretty.  i happene...</td>\n",
       "      <td>5</td>\n",
       "      <td>1</td>\n",
       "      <td>4</td>\n",
       "      <td>General</td>\n",
       "      <td>Dresses</td>\n",
       "      <td>Dresses</td>\n",
       "    </tr>\n",
       "    <tr>\n",
       "      <th>2</th>\n",
       "      <td>1077</td>\n",
       "      <td>60</td>\n",
       "      <td>Some major design flaws</td>\n",
       "      <td>I had such high hopes for this dress and reall...</td>\n",
       "      <td>3</td>\n",
       "      <td>0</td>\n",
       "      <td>0</td>\n",
       "      <td>General</td>\n",
       "      <td>Dresses</td>\n",
       "      <td>Dresses</td>\n",
       "    </tr>\n",
       "    <tr>\n",
       "      <th>3</th>\n",
       "      <td>1049</td>\n",
       "      <td>50</td>\n",
       "      <td>My favorite buy!</td>\n",
       "      <td>I love, love, love this jumpsuit. it's fun, fl...</td>\n",
       "      <td>5</td>\n",
       "      <td>1</td>\n",
       "      <td>0</td>\n",
       "      <td>General Petite</td>\n",
       "      <td>Bottoms</td>\n",
       "      <td>Pants</td>\n",
       "    </tr>\n",
       "    <tr>\n",
       "      <th>4</th>\n",
       "      <td>847</td>\n",
       "      <td>47</td>\n",
       "      <td>Flattering shirt</td>\n",
       "      <td>This shirt is very flattering to all due to th...</td>\n",
       "      <td>5</td>\n",
       "      <td>1</td>\n",
       "      <td>6</td>\n",
       "      <td>General</td>\n",
       "      <td>Tops</td>\n",
       "      <td>Blouses</td>\n",
       "    </tr>\n",
       "  </tbody>\n",
       "</table>\n",
       "</div>"
      ],
      "text/plain": [
       "   Clothing ID  Age                    Title  \\\n",
       "0          767   33                      NaN   \n",
       "1         1080   34                      NaN   \n",
       "2         1077   60  Some major design flaws   \n",
       "3         1049   50         My favorite buy!   \n",
       "4          847   47         Flattering shirt   \n",
       "\n",
       "                                         Review Text  Rating  Recommended IND  \\\n",
       "0  Absolutely wonderful - silky and sexy and comf...       4                1   \n",
       "1  Love this dress!  it's sooo pretty.  i happene...       5                1   \n",
       "2  I had such high hopes for this dress and reall...       3                0   \n",
       "3  I love, love, love this jumpsuit. it's fun, fl...       5                1   \n",
       "4  This shirt is very flattering to all due to th...       5                1   \n",
       "\n",
       "   Positive Feedback Count   Division Name Department Name Class Name  \n",
       "0                        0       Initmates        Intimate  Intimates  \n",
       "1                        4         General         Dresses    Dresses  \n",
       "2                        0         General         Dresses    Dresses  \n",
       "3                        0  General Petite         Bottoms      Pants  \n",
       "4                        6         General            Tops    Blouses  "
      ]
     },
     "execution_count": 3,
     "metadata": {},
     "output_type": "execute_result"
    }
   ],
   "source": [
    "data.head()"
   ]
  },
  {
   "cell_type": "markdown",
   "metadata": {},
   "source": [
    "The previous output shows the first 5 rows of the dataset. Also, the description of the dataset from the Kaggle page is presented below:\n",
    "\n",
    "\"*This is a Women’s Clothing E-Commerce dataset revolving around the reviews written by customers. Its nine supportive features offer a great environment to parse out the text through its multiple dimensions. Because this is real commercial data, it has been anonymized, and references to the company in the review text and body have been replaced with 'retailer'.*\""
   ]
  },
  {
   "cell_type": "code",
   "execution_count": 4,
   "metadata": {},
   "outputs": [
    {
     "name": "stdout",
     "output_type": "stream",
     "text": [
      "The dimension of the data is:  (23486, 10)\n"
     ]
    }
   ],
   "source": [
    "print(\"The dimension of the data is: \", data.shape)"
   ]
  },
  {
   "cell_type": "code",
   "execution_count": 5,
   "metadata": {},
   "outputs": [
    {
     "name": "stdout",
     "output_type": "stream",
     "text": [
      "<class 'pandas.core.frame.DataFrame'>\n",
      "Int64Index: 23486 entries, 0 to 23485\n",
      "Data columns (total 10 columns):\n",
      "Clothing ID                23486 non-null int64\n",
      "Age                        23486 non-null int64\n",
      "Title                      19676 non-null object\n",
      "Review Text                22641 non-null object\n",
      "Rating                     23486 non-null int64\n",
      "Recommended IND            23486 non-null int64\n",
      "Positive Feedback Count    23486 non-null int64\n",
      "Division Name              23472 non-null object\n",
      "Department Name            23472 non-null object\n",
      "Class Name                 23472 non-null object\n",
      "dtypes: int64(5), object(5)\n",
      "memory usage: 2.0+ MB\n"
     ]
    }
   ],
   "source": [
    "data.info()"
   ]
  },
  {
   "cell_type": "code",
   "execution_count": 6,
   "metadata": {},
   "outputs": [
    {
     "data": {
      "text/html": [
       "<div>\n",
       "<style scoped>\n",
       "    .dataframe tbody tr th:only-of-type {\n",
       "        vertical-align: middle;\n",
       "    }\n",
       "\n",
       "    .dataframe tbody tr th {\n",
       "        vertical-align: top;\n",
       "    }\n",
       "\n",
       "    .dataframe thead th {\n",
       "        text-align: right;\n",
       "    }\n",
       "</style>\n",
       "<table border=\"1\" class=\"dataframe\">\n",
       "  <thead>\n",
       "    <tr style=\"text-align: right;\">\n",
       "      <th></th>\n",
       "      <th>Clothing ID</th>\n",
       "      <th>Age</th>\n",
       "      <th>Rating</th>\n",
       "      <th>Recommended IND</th>\n",
       "      <th>Positive Feedback Count</th>\n",
       "    </tr>\n",
       "  </thead>\n",
       "  <tbody>\n",
       "    <tr>\n",
       "      <th>count</th>\n",
       "      <td>23486.000000</td>\n",
       "      <td>23486.000000</td>\n",
       "      <td>23486.000000</td>\n",
       "      <td>23486.000000</td>\n",
       "      <td>23486.000000</td>\n",
       "    </tr>\n",
       "    <tr>\n",
       "      <th>mean</th>\n",
       "      <td>918.118709</td>\n",
       "      <td>43.198544</td>\n",
       "      <td>4.196032</td>\n",
       "      <td>0.822362</td>\n",
       "      <td>2.535936</td>\n",
       "    </tr>\n",
       "    <tr>\n",
       "      <th>std</th>\n",
       "      <td>203.298980</td>\n",
       "      <td>12.279544</td>\n",
       "      <td>1.110031</td>\n",
       "      <td>0.382216</td>\n",
       "      <td>5.702202</td>\n",
       "    </tr>\n",
       "    <tr>\n",
       "      <th>min</th>\n",
       "      <td>0.000000</td>\n",
       "      <td>18.000000</td>\n",
       "      <td>1.000000</td>\n",
       "      <td>0.000000</td>\n",
       "      <td>0.000000</td>\n",
       "    </tr>\n",
       "    <tr>\n",
       "      <th>25%</th>\n",
       "      <td>861.000000</td>\n",
       "      <td>34.000000</td>\n",
       "      <td>4.000000</td>\n",
       "      <td>1.000000</td>\n",
       "      <td>0.000000</td>\n",
       "    </tr>\n",
       "    <tr>\n",
       "      <th>50%</th>\n",
       "      <td>936.000000</td>\n",
       "      <td>41.000000</td>\n",
       "      <td>5.000000</td>\n",
       "      <td>1.000000</td>\n",
       "      <td>1.000000</td>\n",
       "    </tr>\n",
       "    <tr>\n",
       "      <th>75%</th>\n",
       "      <td>1078.000000</td>\n",
       "      <td>52.000000</td>\n",
       "      <td>5.000000</td>\n",
       "      <td>1.000000</td>\n",
       "      <td>3.000000</td>\n",
       "    </tr>\n",
       "    <tr>\n",
       "      <th>max</th>\n",
       "      <td>1205.000000</td>\n",
       "      <td>99.000000</td>\n",
       "      <td>5.000000</td>\n",
       "      <td>1.000000</td>\n",
       "      <td>122.000000</td>\n",
       "    </tr>\n",
       "  </tbody>\n",
       "</table>\n",
       "</div>"
      ],
      "text/plain": [
       "        Clothing ID           Age        Rating  Recommended IND  \\\n",
       "count  23486.000000  23486.000000  23486.000000     23486.000000   \n",
       "mean     918.118709     43.198544      4.196032         0.822362   \n",
       "std      203.298980     12.279544      1.110031         0.382216   \n",
       "min        0.000000     18.000000      1.000000         0.000000   \n",
       "25%      861.000000     34.000000      4.000000         1.000000   \n",
       "50%      936.000000     41.000000      5.000000         1.000000   \n",
       "75%     1078.000000     52.000000      5.000000         1.000000   \n",
       "max     1205.000000     99.000000      5.000000         1.000000   \n",
       "\n",
       "       Positive Feedback Count  \n",
       "count             23486.000000  \n",
       "mean                  2.535936  \n",
       "std                   5.702202  \n",
       "min                   0.000000  \n",
       "25%                   0.000000  \n",
       "50%                   1.000000  \n",
       "75%                   3.000000  \n",
       "max                 122.000000  "
      ]
     },
     "execution_count": 6,
     "metadata": {},
     "output_type": "execute_result"
    }
   ],
   "source": [
    "data.describe()"
   ]
  },
  {
   "cell_type": "markdown",
   "metadata": {},
   "source": [
    "### Step 2: Preparing and cleaning data"
   ]
  },
  {
   "cell_type": "markdown",
   "metadata": {},
   "source": [
    "The results in the previous description shows that some data cleaning will be needed before performing the analysis. First, let's rename the columns using lower case and replacing the white space with the character 'underscore'."
   ]
  },
  {
   "cell_type": "code",
   "execution_count": 7,
   "metadata": {},
   "outputs": [
    {
     "data": {
      "text/plain": [
       "Index(['Clothing ID', 'Age', 'Title', 'Review Text', 'Rating',\n",
       "       'Recommended IND', 'Positive Feedback Count', 'Division Name',\n",
       "       'Department Name', 'Class Name'],\n",
       "      dtype='object')"
      ]
     },
     "execution_count": 7,
     "metadata": {},
     "output_type": "execute_result"
    }
   ],
   "source": [
    "# Getting the columns' names\n",
    "data.columns"
   ]
  },
  {
   "cell_type": "code",
   "execution_count": 8,
   "metadata": {},
   "outputs": [],
   "source": [
    "# Making copy of the data to prepare and clean it\n",
    "new_data = data.copy()"
   ]
  },
  {
   "cell_type": "code",
   "execution_count": 9,
   "metadata": {},
   "outputs": [],
   "source": [
    "# Renaming columns in lowercase\n",
    "new_data.rename(columns=lambda x: x.lower(), inplace=True)"
   ]
  },
  {
   "cell_type": "code",
   "execution_count": 10,
   "metadata": {},
   "outputs": [
    {
     "data": {
      "text/plain": [
       "Index(['clothing id', 'age', 'title', 'review text', 'rating',\n",
       "       'recommended ind', 'positive feedback count', 'division name',\n",
       "       'department name', 'class name'],\n",
       "      dtype='object')"
      ]
     },
     "execution_count": 10,
     "metadata": {},
     "output_type": "execute_result"
    }
   ],
   "source": [
    "new_data.columns"
   ]
  },
  {
   "cell_type": "code",
   "execution_count": 11,
   "metadata": {},
   "outputs": [],
   "source": [
    "# Renplcacing the white space from columns' names\n",
    "new_data.columns = new_data.columns.str.replace(' ', '_')"
   ]
  },
  {
   "cell_type": "code",
   "execution_count": 12,
   "metadata": {},
   "outputs": [
    {
     "data": {
      "text/plain": [
       "clothing_id                   0\n",
       "age                           0\n",
       "title                      3810\n",
       "review_text                 845\n",
       "rating                        0\n",
       "recommended_ind               0\n",
       "positive_feedback_count       0\n",
       "division_name                14\n",
       "department_name              14\n",
       "class_name                   14\n",
       "dtype: int64"
      ]
     },
     "execution_count": 12,
     "metadata": {},
     "output_type": "execute_result"
    }
   ],
   "source": [
    "# Checking for NaN values in each column\n",
    "new_data.isna().sum()"
   ]
  },
  {
   "cell_type": "code",
   "execution_count": 13,
   "metadata": {},
   "outputs": [
    {
     "data": {
      "text/plain": [
       "4697"
      ]
     },
     "execution_count": 13,
     "metadata": {},
     "output_type": "execute_result"
    }
   ],
   "source": [
    "# Checking for NaN values in all data frame\n",
    "new_data.isna().sum().sum()"
   ]
  },
  {
   "cell_type": "markdown",
   "metadata": {},
   "source": [
    "Considering the results above, I decided to drop the columns assigned as 'review_text', 'division_name', 'department_name' and 'class_name' with missing values because I can not make assumptions about what the meaning of those columns and they will not affect my results in the future as they are 887 values, which represents 3.77% of the total dataset."
   ]
  },
  {
   "cell_type": "code",
   "execution_count": 14,
   "metadata": {},
   "outputs": [
    {
     "data": {
      "text/plain": [
       "clothing_id                   0\n",
       "age                           0\n",
       "title                      2966\n",
       "review_text                   0\n",
       "rating                        0\n",
       "recommended_ind               0\n",
       "positive_feedback_count       0\n",
       "division_name                 0\n",
       "department_name               0\n",
       "class_name                    0\n",
       "dtype: int64"
      ]
     },
     "execution_count": 14,
     "metadata": {},
     "output_type": "execute_result"
    }
   ],
   "source": [
    "# Dropping subset of columns that have missing values\n",
    "new_data.dropna(subset=['review_text','division_name', 'department_name','class_name'], inplace=True)\n",
    "new_data.isna().sum()"
   ]
  },
  {
   "cell_type": "code",
   "execution_count": 15,
   "metadata": {},
   "outputs": [
    {
     "data": {
      "text/plain": [
       "(22628, 10)"
      ]
     },
     "execution_count": 15,
     "metadata": {},
     "output_type": "execute_result"
    }
   ],
   "source": [
    "new_data.shape"
   ]
  },
  {
   "cell_type": "markdown",
   "metadata": {},
   "source": [
    "On the other hand, for the missing values for the column 'title', I think that this column can be useful for the model in the future, so for the NaN values I will fill any NaNs by calling them 'Null'."
   ]
  },
  {
   "cell_type": "code",
   "execution_count": 16,
   "metadata": {},
   "outputs": [],
   "source": [
    "# Any NaN values in the column, I'll relabel as 'Null'\n",
    "new_data['title'].fillna('Null', inplace=True)"
   ]
  },
  {
   "cell_type": "code",
   "execution_count": 17,
   "metadata": {},
   "outputs": [
    {
     "data": {
      "text/plain": [
       "False"
      ]
     },
     "execution_count": 17,
     "metadata": {},
     "output_type": "execute_result"
    }
   ],
   "source": [
    "new_data['title'].isna().any()"
   ]
  },
  {
   "cell_type": "code",
   "execution_count": 18,
   "metadata": {},
   "outputs": [
    {
     "data": {
      "text/plain": [
       "clothing_id                False\n",
       "age                        False\n",
       "title                      False\n",
       "review_text                False\n",
       "rating                     False\n",
       "recommended_ind            False\n",
       "positive_feedback_count    False\n",
       "division_name              False\n",
       "department_name            False\n",
       "class_name                 False\n",
       "dtype: bool"
      ]
     },
     "execution_count": 18,
     "metadata": {},
     "output_type": "execute_result"
    }
   ],
   "source": [
    "new_data.isna().any()"
   ]
  },
  {
   "cell_type": "markdown",
   "metadata": {},
   "source": [
    "### Step 3: Exploratory Data Analysis"
   ]
  },
  {
   "cell_type": "markdown",
   "metadata": {},
   "source": [
    "In this section I'll do some exploratory data analysis over the dataset."
   ]
  },
  {
   "cell_type": "markdown",
   "metadata": {},
   "source": [
    "#### 3.1. Looking amount of Age column"
   ]
  },
  {
   "cell_type": "code",
   "execution_count": 19,
   "metadata": {},
   "outputs": [
    {
     "data": {
      "text/plain": [
       "count    22628.000000\n",
       "mean        43.282880\n",
       "std         12.328176\n",
       "min         18.000000\n",
       "25%         34.000000\n",
       "50%         41.000000\n",
       "75%         52.000000\n",
       "max         99.000000\n",
       "Name: age, dtype: float64"
      ]
     },
     "execution_count": 19,
     "metadata": {},
     "output_type": "execute_result"
    }
   ],
   "source": [
    "new_data['age'].describe()"
   ]
  },
  {
   "cell_type": "markdown",
   "metadata": {},
   "source": [
    "It is possible to see that the age range is from 18 to 99 years and the average age is around 43 years old for people that leave most of the reviews."
   ]
  },
  {
   "cell_type": "code",
   "execution_count": 20,
   "metadata": {},
   "outputs": [
    {
     "data": {
      "image/png": "[encoded data removed]",
      "text/plain": [
       "<Figure size 792x360 with 1 Axes>"
      ]
     },
     "metadata": {
      "needs_background": "light"
     },
     "output_type": "display_data"
    }
   ],
   "source": [
    "# Plotting histogram to show the distribution of age\n",
    "plt.figure(figsize = (11,5))\n",
    "plt.hist(new_data[\"age\"],bins=30)\n",
    "plt.xlabel(\"Age in years\")\n",
    "plt.ylabel(\"Frequency\")\n",
    "plt.title(\"Clients' Age\")\n",
    "plt.show();"
   ]
  },
  {
   "cell_type": "markdown",
   "metadata": {},
   "source": [
    "#### 3.2. Looking Title column"
   ]
  },
  {
   "cell_type": "code",
   "execution_count": 21,
   "metadata": {},
   "outputs": [
    {
     "data": {
      "text/plain": [
       "count     22628\n",
       "unique    13984\n",
       "top        Null\n",
       "freq       2966\n",
       "Name: title, dtype: object"
      ]
     },
     "execution_count": 21,
     "metadata": {},
     "output_type": "execute_result"
    }
   ],
   "source": [
    "new_data['title'].describe()"
   ]
  },
  {
   "cell_type": "code",
   "execution_count": 22,
   "metadata": {},
   "outputs": [
    {
     "data": {
      "text/plain": [
       "Null                                      2966\n",
       "Love it!                                   136\n",
       "Beautiful                                   95\n",
       "Love                                        88\n",
       "Love!                                       83\n",
       "Beautiful!                                  72\n",
       "Beautiful dress                             60\n",
       "Love it                                     59\n",
       "Love this dress!                            53\n",
       "Gorgeous                                    53\n",
       "Cute top                                    52\n",
       "Disappointed                                51\n",
       "Perfect                                     49\n",
       "Great dress                                 49\n",
       "Super cute                                  44\n",
       "Adorable                                    43\n",
       "Great top                                   42\n",
       "Not for me                                  37\n",
       "Runs small                                  36\n",
       "Great dress!                                35\n",
       "Disappointing                               35\n",
       "Great top!                                  35\n",
       "Perfect!                                    35\n",
       "Cute                                        34\n",
       "Love this dress                             34\n",
       "Beautiful top                               34\n",
       "Lovely                                      33\n",
       "Great fit                                   31\n",
       "Cute!                                       31\n",
       "Love this!                                  29\n",
       "                                          ... \n",
       "Why no reviews?                              1\n",
       "Off the shoulder?                            1\n",
       "Pretty, comnfortable and loose-fit           1\n",
       "One of a kind!                               1\n",
       "Relaxed, flowing fit                         1\n",
       "Great, comfy top                             1\n",
       "Cutest. dress. ever.                         1\n",
       "Gorgeous bathing suit!                       1\n",
       "Cute, but not best quality                   1\n",
       "Cheaply made but flattering cut              1\n",
       "Tried to make this top work, too short       1\n",
       "Loved!                                       1\n",
       "Gorgeous color and material                  1\n",
       "Not worth the price but looks good!          1\n",
       "A no-brainer                                 1\n",
       "Low maintenance                              1\n",
       "Very light and comfy but runs large!         1\n",
       "Sweater-like, loose-fitting tank.            1\n",
       "Loved, but returned                          1\n",
       "Perfect around the house shirt               1\n",
       "Pretty pattern                               1\n",
       "Sweet top!                                   1\n",
       "Easy interesting top                         1\n",
       "Cute versatile maxi                          1\n",
       "Nice casual tunic for everyday               1\n",
       "Design flawed                                1\n",
       "Quite versitile.                             1\n",
       "Gorgeous and unique!                         1\n",
       "Way too scratchy!                            1\n",
       "Softest, most flattering sweater             1\n",
       "Name: title, Length: 13984, dtype: int64"
      ]
     },
     "execution_count": 22,
     "metadata": {},
     "output_type": "execute_result"
    }
   ],
   "source": [
    "new_data['title'].value_counts()"
   ]
  },
  {
   "cell_type": "markdown",
   "metadata": {},
   "source": [
    "The output above shows the frequency for each unique title on the dataset. We know that the majority of review text does not have a title as we can see a total of 2,966 without title, however, the second-highest frequency is the text reviews with the title \"Love it!\", which shows the positive experience from the customers."
   ]
  },
  {
   "cell_type": "markdown",
   "metadata": {},
   "source": [
    "#### 3.2.1. Generating WordCloud"
   ]
  },
  {
   "cell_type": "markdown",
   "metadata": {},
   "source": [
    "WordCloud is a good tool to visualize the frequency or importance of each word that is shown in the Title column. It is possible to see the positive experience from customers when we read, for example, the words 'love', 'beautiful', 'cute' and 'perfect lovely'. Also, we can have the confirmation that 'top' and 'dress' are the products with the highest received reviews."
   ]
  },
  {
   "cell_type": "code",
   "execution_count": 23,
   "metadata": {},
   "outputs": [
    {
     "data": {
      "image/png": "[encoded data removed]",
      "text/plain": [
       "<Figure size 720x432 with 1 Axes>"
      ]
     },
     "metadata": {
      "needs_background": "light"
     },
     "output_type": "display_data"
    }
   ],
   "source": [
    "# Using wordcloud for title column\n",
    "title = new_data['title'].str.cat(sep=' ')\n",
    "\n",
    "# Creating and generating a wordcloud image\n",
    "wordcloud = WordCloud(max_words=200, background_color='white', width=600, height=400, margin=0).generate(title)\n",
    "\n",
    "# Displaying the image\n",
    "plt.figure(figsize=(10,6))\n",
    "plt.imshow(wordcloud, interpolation='bilinear')\n",
    "plt.axis(\"off\")\n",
    "plt.show()"
   ]
  },
  {
   "cell_type": "markdown",
   "metadata": {},
   "source": [
    "#### 3.3. Looking amount of Rating column"
   ]
  },
  {
   "cell_type": "code",
   "execution_count": 24,
   "metadata": {},
   "outputs": [
    {
     "data": {
      "text/plain": [
       "count    22628.000000\n",
       "mean         4.183092\n",
       "std          1.115911\n",
       "min          1.000000\n",
       "25%          4.000000\n",
       "50%          5.000000\n",
       "75%          5.000000\n",
       "max          5.000000\n",
       "Name: rating, dtype: float64"
      ]
     },
     "execution_count": 24,
     "metadata": {},
     "output_type": "execute_result"
    }
   ],
   "source": [
    "new_data['rating'].describe()"
   ]
  },
  {
   "cell_type": "code",
   "execution_count": 25,
   "metadata": {},
   "outputs": [
    {
     "data": {
      "text/plain": [
       "5    12527\n",
       "4     4908\n",
       "3     2823\n",
       "2     1549\n",
       "1      821\n",
       "Name: rating, dtype: int64"
      ]
     },
     "metadata": {},
     "output_type": "display_data"
    }
   ],
   "source": [
    "# Getting value count for the 'rating' column\n",
    "display(new_data['rating'].value_counts())"
   ]
  },
  {
   "cell_type": "code",
   "execution_count": 26,
   "metadata": {},
   "outputs": [
    {
     "data": {
      "image/png": "[encoded data removed]",
      "text/plain": [
       "<Figure size 432x288 with 1 Axes>"
      ]
     },
     "metadata": {
      "needs_background": "light"
     },
     "output_type": "display_data"
    }
   ],
   "source": [
    "sns.countplot(x='rating', data=new_data)\n",
    "plt.title('Frequency Count of Rating')\n",
    "plt.show()"
   ]
  },
  {
   "cell_type": "markdown",
   "metadata": {},
   "source": [
    "It is possible to observe that the highest number for the product score granted by the customer is 5, which means \"Best\" for the rating and represents around 55% of the total."
   ]
  },
  {
   "cell_type": "markdown",
   "metadata": {},
   "source": [
    "#### 3.4. Looking amount of Recommended IND column"
   ]
  },
  {
   "cell_type": "code",
   "execution_count": 27,
   "metadata": {},
   "outputs": [
    {
     "data": {
      "text/plain": [
       "count    22628.000000\n",
       "mean         0.818764\n",
       "std          0.385222\n",
       "min          0.000000\n",
       "25%          1.000000\n",
       "50%          1.000000\n",
       "75%          1.000000\n",
       "max          1.000000\n",
       "Name: recommended_ind, dtype: float64"
      ]
     },
     "execution_count": 27,
     "metadata": {},
     "output_type": "execute_result"
    }
   ],
   "source": [
    "new_data['recommended_ind'].describe()"
   ]
  },
  {
   "cell_type": "code",
   "execution_count": 28,
   "metadata": {},
   "outputs": [
    {
     "data": {
      "text/plain": [
       "1    18527\n",
       "0     4101\n",
       "Name: recommended_ind, dtype: int64"
      ]
     },
     "metadata": {},
     "output_type": "display_data"
    }
   ],
   "source": [
    "# Getting value count for the 'recommended_ind' column\n",
    "display(new_data['recommended_ind'].value_counts())"
   ]
  },
  {
   "cell_type": "code",
   "execution_count": 29,
   "metadata": {},
   "outputs": [
    {
     "data": {
      "image/png": "[encoded data removed]",
      "text/plain": [
       "<Figure size 432x288 with 1 Axes>"
      ]
     },
     "metadata": {
      "needs_background": "light"
     },
     "output_type": "display_data"
    }
   ],
   "source": [
    "# Plotting countplot to show the distribution of products recommended\n",
    "sns.countplot(x='recommended_ind', data=new_data)\n",
    "plt.title('Frequency Count of Products Recommendation')\n",
    "plt.show()"
   ]
  },
  {
   "cell_type": "markdown",
   "metadata": {},
   "source": [
    "Considering the plot above, it is possible to see that there are 22,628 products.  It also shows that 18,527 products are recommended by customers and 4,101 products are not recommended, which represents around 82% and 18%, respectively. This data has a significant number of products that are recommended by customers."
   ]
  },
  {
   "cell_type": "markdown",
   "metadata": {},
   "source": [
    "#### 3.5. Looking amount of Positive Feedback Count column"
   ]
  },
  {
   "cell_type": "code",
   "execution_count": 30,
   "metadata": {},
   "outputs": [
    {
     "data": {
      "text/plain": [
       "count    22628.000000\n",
       "mean         2.631784\n",
       "std          5.787520\n",
       "min          0.000000\n",
       "25%          0.000000\n",
       "50%          1.000000\n",
       "75%          3.000000\n",
       "max        122.000000\n",
       "Name: positive_feedback_count, dtype: float64"
      ]
     },
     "execution_count": 30,
     "metadata": {},
     "output_type": "execute_result"
    }
   ],
   "source": [
    "new_data['positive_feedback_count'].describe()"
   ]
  },
  {
   "cell_type": "code",
   "execution_count": 31,
   "metadata": {},
   "outputs": [
    {
     "data": {
      "image/png": "[encoded data removed]",
      "text/plain": [
       "<Figure size 432x288 with 1 Axes>"
      ]
     },
     "metadata": {
      "needs_background": "light"
     },
     "output_type": "display_data"
    }
   ],
   "source": [
    "# Plotting histogram to show the distribution of positive feedback count\n",
    "\n",
    "plt.hist(data[\"Positive Feedback Count\"],bins=50)\n",
    "plt.xlabel(\"Positive Feedback\")\n",
    "plt.ylabel(\"Count\")\n",
    "plt.title(\"Positive Feedback Count\")\n",
    "plt.show();"
   ]
  },
  {
   "cell_type": "markdown",
   "metadata": {},
   "source": [
    "Considering the previous results, we can see the distribuitions from other customers who found the review positive."
   ]
  },
  {
   "cell_type": "markdown",
   "metadata": {},
   "source": [
    "#### 3.6. Looking some categorical columns"
   ]
  },
  {
   "cell_type": "code",
   "execution_count": 32,
   "metadata": {},
   "outputs": [
    {
     "data": {
      "text/html": [
       "<div>\n",
       "<style scoped>\n",
       "    .dataframe tbody tr th:only-of-type {\n",
       "        vertical-align: middle;\n",
       "    }\n",
       "\n",
       "    .dataframe tbody tr th {\n",
       "        vertical-align: top;\n",
       "    }\n",
       "\n",
       "    .dataframe thead th {\n",
       "        text-align: right;\n",
       "    }\n",
       "</style>\n",
       "<table border=\"1\" class=\"dataframe\">\n",
       "  <thead>\n",
       "    <tr style=\"text-align: right;\">\n",
       "      <th></th>\n",
       "      <th>division_name</th>\n",
       "      <th>department_name</th>\n",
       "      <th>class_name</th>\n",
       "    </tr>\n",
       "  </thead>\n",
       "  <tbody>\n",
       "    <tr>\n",
       "      <th>count</th>\n",
       "      <td>22628</td>\n",
       "      <td>22628</td>\n",
       "      <td>22628</td>\n",
       "    </tr>\n",
       "    <tr>\n",
       "      <th>unique</th>\n",
       "      <td>3</td>\n",
       "      <td>6</td>\n",
       "      <td>20</td>\n",
       "    </tr>\n",
       "    <tr>\n",
       "      <th>top</th>\n",
       "      <td>General</td>\n",
       "      <td>Tops</td>\n",
       "      <td>Dresses</td>\n",
       "    </tr>\n",
       "    <tr>\n",
       "      <th>freq</th>\n",
       "      <td>13365</td>\n",
       "      <td>10048</td>\n",
       "      <td>6145</td>\n",
       "    </tr>\n",
       "  </tbody>\n",
       "</table>\n",
       "</div>"
      ],
      "text/plain": [
       "       division_name department_name class_name\n",
       "count          22628           22628      22628\n",
       "unique             3               6         20\n",
       "top          General            Tops    Dresses\n",
       "freq           13365           10048       6145"
      ]
     },
     "execution_count": 32,
     "metadata": {},
     "output_type": "execute_result"
    }
   ],
   "source": [
    "new_data[['division_name', 'department_name', 'class_name']].describe()"
   ]
  },
  {
   "cell_type": "markdown",
   "metadata": {},
   "source": [
    "##### 3.6.1. Division name column\n",
    "\n",
    "This column represents the categorical name of the product considering its high level division."
   ]
  },
  {
   "cell_type": "code",
   "execution_count": 33,
   "metadata": {},
   "outputs": [
    {
     "data": {
      "text/plain": [
       "count       22628\n",
       "unique          3\n",
       "top       General\n",
       "freq        13365\n",
       "Name: division_name, dtype: object"
      ]
     },
     "execution_count": 33,
     "metadata": {},
     "output_type": "execute_result"
    }
   ],
   "source": [
    "new_data['division_name'].describe()"
   ]
  },
  {
   "cell_type": "code",
   "execution_count": 34,
   "metadata": {},
   "outputs": [
    {
     "data": {
      "text/plain": [
       "General           13365\n",
       "General Petite     7837\n",
       "Initmates          1426\n",
       "Name: division_name, dtype: int64"
      ]
     },
     "execution_count": 34,
     "metadata": {},
     "output_type": "execute_result"
    }
   ],
   "source": [
    "# Getting value count for the 'division_name' column\n",
    "new_data['division_name'].value_counts()"
   ]
  },
  {
   "cell_type": "markdown",
   "metadata": {},
   "source": [
    "It is possible to see that there are three division levels, however, there is one division name that shows the wrong word spelling, so I decided to replace it for the right spelling 'Intimates'."
   ]
  },
  {
   "cell_type": "code",
   "execution_count": 35,
   "metadata": {},
   "outputs": [],
   "source": [
    "# Replacing all values of 'Initmates' with 'Intimates'\n",
    "new_data.replace('Initmates', 'Intimates', inplace=True)"
   ]
  },
  {
   "cell_type": "code",
   "execution_count": 36,
   "metadata": {},
   "outputs": [
    {
     "data": {
      "image/png": "[encoded data removed]",
      "text/plain": [
       "<Figure size 432x288 with 1 Axes>"
      ]
     },
     "metadata": {
      "needs_background": "light"
     },
     "output_type": "display_data"
    }
   ],
   "source": [
    "# Plotting countplot to show the distribution of division name\n",
    "sns.countplot(x='division_name', \n",
    "              data=new_data, \n",
    "              order=new_data['division_name'].value_counts().index)\n",
    "plt.title('Frequency Count of Division Name')\n",
    "plt.show()"
   ]
  },
  {
   "cell_type": "markdown",
   "metadata": {},
   "source": [
    "Considering the plot above, it is possible to see that the most frequency of products reviewed is in the General division level which represents around 59% of the total."
   ]
  },
  {
   "cell_type": "markdown",
   "metadata": {},
   "source": [
    "##### 3.6.2. Department name column"
   ]
  },
  {
   "cell_type": "code",
   "execution_count": 37,
   "metadata": {},
   "outputs": [
    {
     "data": {
      "text/plain": [
       "count     22628\n",
       "unique        6\n",
       "top        Tops\n",
       "freq      10048\n",
       "Name: department_name, dtype: object"
      ]
     },
     "execution_count": 37,
     "metadata": {},
     "output_type": "execute_result"
    }
   ],
   "source": [
    "new_data['department_name'].describe()"
   ]
  },
  {
   "cell_type": "code",
   "execution_count": 38,
   "metadata": {},
   "outputs": [
    {
     "data": {
      "text/plain": [
       "Tops        10048\n",
       "Dresses      6145\n",
       "Bottoms      3662\n",
       "Intimate     1653\n",
       "Jackets      1002\n",
       "Trend         118\n",
       "Name: department_name, dtype: int64"
      ]
     },
     "execution_count": 38,
     "metadata": {},
     "output_type": "execute_result"
    }
   ],
   "source": [
    "# Getting value count for the 'department_name' column\n",
    "new_data['department_name'].value_counts()"
   ]
  },
  {
   "cell_type": "code",
   "execution_count": 39,
   "metadata": {},
   "outputs": [
    {
     "data": {
      "image/png": "[encoded data removed]",
      "text/plain": [
       "<Figure size 432x288 with 1 Axes>"
      ]
     },
     "metadata": {
      "needs_background": "light"
     },
     "output_type": "display_data"
    }
   ],
   "source": [
    "# Plotting countplot to show the distribution of department name\n",
    "sns.countplot(x='department_name', \n",
    "              data=new_data, \n",
    "              order=new_data['department_name'].value_counts().index)\n",
    "plt.title('Frequency Count of Department Name')\n",
    "plt.show()"
   ]
  },
  {
   "cell_type": "markdown",
   "metadata": {},
   "source": [
    "Considering the plot above, it is possible to observe that *Tops* and *Dresses* are the products that have the most reviews which represent around 71% of the total."
   ]
  },
  {
   "cell_type": "code",
   "execution_count": 40,
   "metadata": {},
   "outputs": [
    {
     "data": {
      "image/png": "[encoded data removed]",
      "text/plain": [
       "<Figure size 720x432 with 1 Axes>"
      ]
     },
     "metadata": {
      "needs_background": "light"
     },
     "output_type": "display_data"
    }
   ],
   "source": [
    "# Plotting histogram to show the distribution of department name by rating\n",
    "plt.figure(figsize=(10,6))\n",
    "ax = sns.countplot(x='department_name', \n",
    "                   hue='rating', \n",
    "                   data=new_data, \n",
    "                   palette='rainbow', \n",
    "                   order=new_data['department_name'].value_counts().index)\n",
    "plt.title('Frequency Count of Department Name by Rating')\n",
    "plt.show()"
   ]
  },
  {
   "cell_type": "markdown",
   "metadata": {},
   "source": [
    "Moreover, considering the plot above by *Rating*, it is possible to se the distribuition for each categorie by rating."
   ]
  },
  {
   "cell_type": "markdown",
   "metadata": {},
   "source": [
    "##### 3.6.3. Class name column"
   ]
  },
  {
   "cell_type": "code",
   "execution_count": 41,
   "metadata": {},
   "outputs": [
    {
     "data": {
      "text/plain": [
       "count       22628\n",
       "unique         20\n",
       "top       Dresses\n",
       "freq         6145\n",
       "Name: class_name, dtype: object"
      ]
     },
     "execution_count": 41,
     "metadata": {},
     "output_type": "execute_result"
    }
   ],
   "source": [
    "new_data['class_name'].describe()"
   ]
  },
  {
   "cell_type": "code",
   "execution_count": 42,
   "metadata": {},
   "outputs": [
    {
     "data": {
      "text/plain": [
       "Dresses           6145\n",
       "Knits             4626\n",
       "Blouses           2983\n",
       "Sweaters          1380\n",
       "Pants             1350\n",
       "Jeans             1104\n",
       "Fine gauge        1059\n",
       "Skirts             903\n",
       "Jackets            683\n",
       "Lounge             669\n",
       "Swim               332\n",
       "Outerwear          319\n",
       "Shorts             304\n",
       "Sleep              214\n",
       "Legwear            158\n",
       "Intimates          147\n",
       "Layering           132\n",
       "Trend              118\n",
       "Casual bottoms       1\n",
       "Chemises             1\n",
       "Name: class_name, dtype: int64"
      ]
     },
     "execution_count": 42,
     "metadata": {},
     "output_type": "execute_result"
    }
   ],
   "source": [
    "# Getting value count for the 'class_name' column\n",
    "new_data['class_name'].value_counts()"
   ]
  },
  {
   "cell_type": "code",
   "execution_count": 43,
   "metadata": {},
   "outputs": [
    {
     "data": {
      "image/png": "[encoded data removed]",
      "text/plain": [
       "<Figure size 1152x576 with 1 Axes>"
      ]
     },
     "metadata": {
      "needs_background": "light"
     },
     "output_type": "display_data"
    }
   ],
   "source": [
    "# Plotting countplot to show the distribution of class name\n",
    "fig = plt.figure(figsize=(16,8))\n",
    "sns.countplot(x='class_name', \n",
    "              data=new_data, \n",
    "              order=new_data['class_name'].value_counts().index)\n",
    "fig.autofmt_xdate()\n",
    "plt.title('Frequency Count of Class Name')\n",
    "plt.show()"
   ]
  },
  {
   "cell_type": "markdown",
   "metadata": {},
   "source": [
    "Considering the previous plot, we can see that *Dresses, Knits and Blouses* are the clothes that present most of the reviews. On the other hand, the clothes least represented are *Casual bottoms and Chemises*, just with 1 review each. "
   ]
  },
  {
   "cell_type": "markdown",
   "metadata": {},
   "source": [
    "### Step 4: Using get dummies for categorical features"
   ]
  },
  {
   "cell_type": "code",
   "execution_count": 44,
   "metadata": {},
   "outputs": [
    {
     "data": {
      "text/plain": [
       "Index(['clothing_id', 'age', 'title', 'review_text', 'rating',\n",
       "       'recommended_ind', 'positive_feedback_count', 'division_name',\n",
       "       'department_name', 'class_name'],\n",
       "      dtype='object')"
      ]
     },
     "execution_count": 44,
     "metadata": {},
     "output_type": "execute_result"
    }
   ],
   "source": [
    "new_data.columns"
   ]
  },
  {
   "cell_type": "code",
   "execution_count": 45,
   "metadata": {},
   "outputs": [
    {
     "name": "stdout",
     "output_type": "stream",
     "text": [
      "Feature 'title' has 13984 unique categories.\n",
      "Feature 'review_text' has 22621 unique categories.\n",
      "Feature 'division_name' has 3 unique categories.\n",
      "Feature 'department_name' has 6 unique categories.\n",
      "Feature 'class_name' has 20 unique categories.\n"
     ]
    }
   ],
   "source": [
    "# Deciding which categorical features to use in model\n",
    "\n",
    "for col_name in new_data.columns:\n",
    "    if new_data[col_name].dtypes == 'object':\n",
    "        unique = len(new_data[col_name].unique())\n",
    "        print(\"Feature '{col_name}' has {unique} unique categories.\".format(col_name=col_name, unique=unique))"
   ]
  },
  {
   "cell_type": "markdown",
   "metadata": {},
   "source": [
    "As we know, models can handle only numerical values. Considering the previous results, it is possible to see that for most of the features there are a lot of unique categories. In this case, it is not recommended to use dummies because it will increase the size of the data for categories that have few observations and can impact the results of the model. So, I decided to convert to numeric values the features 'division_name' and 'department_name'."
   ]
  },
  {
   "cell_type": "code",
   "execution_count": 46,
   "metadata": {},
   "outputs": [],
   "source": [
    "# Creating a list of features to dummy\n",
    "dummy_list = ['division_name', 'department_name']"
   ]
  },
  {
   "cell_type": "code",
   "execution_count": 47,
   "metadata": {},
   "outputs": [],
   "source": [
    "# Using function to dummy two categorical variables\n",
    "def dummy_data(new_data, dummy_list):\n",
    "    for x in dummy_list:\n",
    "        dummies = pd.get_dummies(new_data[x], prefix=x, dummy_na=False)\n",
    "        new_data = new_data.drop(x,1)\n",
    "        new_data = pd.concat([new_data, dummies], axis=1)\n",
    "    return new_data"
   ]
  },
  {
   "cell_type": "code",
   "execution_count": 48,
   "metadata": {},
   "outputs": [],
   "source": [
    "clean_data = dummy_data(new_data, dummy_list)"
   ]
  },
  {
   "cell_type": "code",
   "execution_count": 49,
   "metadata": {},
   "outputs": [
    {
     "data": {
      "text/html": [
       "<div>\n",
       "<style scoped>\n",
       "    .dataframe tbody tr th:only-of-type {\n",
       "        vertical-align: middle;\n",
       "    }\n",
       "\n",
       "    .dataframe tbody tr th {\n",
       "        vertical-align: top;\n",
       "    }\n",
       "\n",
       "    .dataframe thead th {\n",
       "        text-align: right;\n",
       "    }\n",
       "</style>\n",
       "<table border=\"1\" class=\"dataframe\">\n",
       "  <thead>\n",
       "    <tr style=\"text-align: right;\">\n",
       "      <th></th>\n",
       "      <th>clothing_id</th>\n",
       "      <th>age</th>\n",
       "      <th>title</th>\n",
       "      <th>review_text</th>\n",
       "      <th>rating</th>\n",
       "      <th>recommended_ind</th>\n",
       "      <th>positive_feedback_count</th>\n",
       "      <th>class_name</th>\n",
       "      <th>division_name_General</th>\n",
       "      <th>division_name_General Petite</th>\n",
       "      <th>division_name_Intimates</th>\n",
       "      <th>department_name_Bottoms</th>\n",
       "      <th>department_name_Dresses</th>\n",
       "      <th>department_name_Intimate</th>\n",
       "      <th>department_name_Jackets</th>\n",
       "      <th>department_name_Tops</th>\n",
       "      <th>department_name_Trend</th>\n",
       "    </tr>\n",
       "  </thead>\n",
       "  <tbody>\n",
       "    <tr>\n",
       "      <th>0</th>\n",
       "      <td>767</td>\n",
       "      <td>33</td>\n",
       "      <td>Null</td>\n",
       "      <td>Absolutely wonderful - silky and sexy and comf...</td>\n",
       "      <td>4</td>\n",
       "      <td>1</td>\n",
       "      <td>0</td>\n",
       "      <td>Intimates</td>\n",
       "      <td>0</td>\n",
       "      <td>0</td>\n",
       "      <td>1</td>\n",
       "      <td>0</td>\n",
       "      <td>0</td>\n",
       "      <td>1</td>\n",
       "      <td>0</td>\n",
       "      <td>0</td>\n",
       "      <td>0</td>\n",
       "    </tr>\n",
       "    <tr>\n",
       "      <th>1</th>\n",
       "      <td>1080</td>\n",
       "      <td>34</td>\n",
       "      <td>Null</td>\n",
       "      <td>Love this dress!  it's sooo pretty.  i happene...</td>\n",
       "      <td>5</td>\n",
       "      <td>1</td>\n",
       "      <td>4</td>\n",
       "      <td>Dresses</td>\n",
       "      <td>1</td>\n",
       "      <td>0</td>\n",
       "      <td>0</td>\n",
       "      <td>0</td>\n",
       "      <td>1</td>\n",
       "      <td>0</td>\n",
       "      <td>0</td>\n",
       "      <td>0</td>\n",
       "      <td>0</td>\n",
       "    </tr>\n",
       "    <tr>\n",
       "      <th>2</th>\n",
       "      <td>1077</td>\n",
       "      <td>60</td>\n",
       "      <td>Some major design flaws</td>\n",
       "      <td>I had such high hopes for this dress and reall...</td>\n",
       "      <td>3</td>\n",
       "      <td>0</td>\n",
       "      <td>0</td>\n",
       "      <td>Dresses</td>\n",
       "      <td>1</td>\n",
       "      <td>0</td>\n",
       "      <td>0</td>\n",
       "      <td>0</td>\n",
       "      <td>1</td>\n",
       "      <td>0</td>\n",
       "      <td>0</td>\n",
       "      <td>0</td>\n",
       "      <td>0</td>\n",
       "    </tr>\n",
       "    <tr>\n",
       "      <th>3</th>\n",
       "      <td>1049</td>\n",
       "      <td>50</td>\n",
       "      <td>My favorite buy!</td>\n",
       "      <td>I love, love, love this jumpsuit. it's fun, fl...</td>\n",
       "      <td>5</td>\n",
       "      <td>1</td>\n",
       "      <td>0</td>\n",
       "      <td>Pants</td>\n",
       "      <td>0</td>\n",
       "      <td>1</td>\n",
       "      <td>0</td>\n",
       "      <td>1</td>\n",
       "      <td>0</td>\n",
       "      <td>0</td>\n",
       "      <td>0</td>\n",
       "      <td>0</td>\n",
       "      <td>0</td>\n",
       "    </tr>\n",
       "    <tr>\n",
       "      <th>4</th>\n",
       "      <td>847</td>\n",
       "      <td>47</td>\n",
       "      <td>Flattering shirt</td>\n",
       "      <td>This shirt is very flattering to all due to th...</td>\n",
       "      <td>5</td>\n",
       "      <td>1</td>\n",
       "      <td>6</td>\n",
       "      <td>Blouses</td>\n",
       "      <td>1</td>\n",
       "      <td>0</td>\n",
       "      <td>0</td>\n",
       "      <td>0</td>\n",
       "      <td>0</td>\n",
       "      <td>0</td>\n",
       "      <td>0</td>\n",
       "      <td>1</td>\n",
       "      <td>0</td>\n",
       "    </tr>\n",
       "  </tbody>\n",
       "</table>\n",
       "</div>"
      ],
      "text/plain": [
       "   clothing_id  age                    title  \\\n",
       "0          767   33                     Null   \n",
       "1         1080   34                     Null   \n",
       "2         1077   60  Some major design flaws   \n",
       "3         1049   50         My favorite buy!   \n",
       "4          847   47         Flattering shirt   \n",
       "\n",
       "                                         review_text  rating  recommended_ind  \\\n",
       "0  Absolutely wonderful - silky and sexy and comf...       4                1   \n",
       "1  Love this dress!  it's sooo pretty.  i happene...       5                1   \n",
       "2  I had such high hopes for this dress and reall...       3                0   \n",
       "3  I love, love, love this jumpsuit. it's fun, fl...       5                1   \n",
       "4  This shirt is very flattering to all due to th...       5                1   \n",
       "\n",
       "   positive_feedback_count class_name  division_name_General  \\\n",
       "0                        0  Intimates                      0   \n",
       "1                        4    Dresses                      1   \n",
       "2                        0    Dresses                      1   \n",
       "3                        0      Pants                      0   \n",
       "4                        6    Blouses                      1   \n",
       "\n",
       "   division_name_General Petite  division_name_Intimates  \\\n",
       "0                             0                        1   \n",
       "1                             0                        0   \n",
       "2                             0                        0   \n",
       "3                             1                        0   \n",
       "4                             0                        0   \n",
       "\n",
       "   department_name_Bottoms  department_name_Dresses  department_name_Intimate  \\\n",
       "0                        0                        0                         1   \n",
       "1                        0                        1                         0   \n",
       "2                        0                        1                         0   \n",
       "3                        1                        0                         0   \n",
       "4                        0                        0                         0   \n",
       "\n",
       "   department_name_Jackets  department_name_Tops  department_name_Trend  \n",
       "0                        0                     0                      0  \n",
       "1                        0                     0                      0  \n",
       "2                        0                     0                      0  \n",
       "3                        0                     0                      0  \n",
       "4                        0                     1                      0  "
      ]
     },
     "execution_count": 49,
     "metadata": {},
     "output_type": "execute_result"
    }
   ],
   "source": [
    "clean_data.head()"
   ]
  },
  {
   "cell_type": "code",
   "execution_count": 50,
   "metadata": {},
   "outputs": [
    {
     "data": {
      "text/plain": [
       "(22628, 17)"
      ]
     },
     "execution_count": 50,
     "metadata": {},
     "output_type": "execute_result"
    }
   ],
   "source": [
    "clean_data.shape"
   ]
  },
  {
   "cell_type": "markdown",
   "metadata": {},
   "source": [
    "Considering the shape of the dataset, after the process applied to get dummies over two categorical columns we can see that the number of features jumps from 10 to 17 in total."
   ]
  },
  {
   "cell_type": "markdown",
   "metadata": {},
   "source": [
    "### Step 5: Basic text preprocessing"
   ]
  },
  {
   "cell_type": "markdown",
   "metadata": {},
   "source": [
    "##### 5.1. Review text column"
   ]
  },
  {
   "cell_type": "code",
   "execution_count": 51,
   "metadata": {},
   "outputs": [
    {
     "data": {
      "text/plain": [
       "count                                                 22628\n",
       "unique                                                22621\n",
       "top       Perfect fit and i've gotten so many compliment...\n",
       "freq                                                      3\n",
       "Name: review_text, dtype: object"
      ]
     },
     "execution_count": 51,
     "metadata": {},
     "output_type": "execute_result"
    }
   ],
   "source": [
    "clean_data['review_text'].describe()"
   ]
  },
  {
   "cell_type": "markdown",
   "metadata": {},
   "source": [
    "The output below is showing six samples of the review text and the score for this review as well."
   ]
  },
  {
   "cell_type": "code",
   "execution_count": 52,
   "metadata": {},
   "outputs": [
    {
     "name": "stdout",
     "output_type": "stream",
     "text": [
      "[[\"Like everyone else, i ignored this vest in the store. my mom actually gave it to me to try on and practically forced me to buy it. it wasn't until  i got home that i discovered its versatility. i got it in the beginning of june so haven't been able to wear it much, but fall is quickly approaching and i already have at least ten outfits to wear with it. it's classy and can dress up any outfit.\"\n",
      "  5]\n",
      " ['Wanted a cooler weather casual weekend errand dress and this is very confortable to wear with artistic leggings and tall boots. pockets are always handy and it is easy to style with a contrast scarf or long necklace. for added warmth can add a full slip or wear alone in spring with sandals. received numerous compliments wearing the first time, so purchased the navy one several weeks later. anticipate wearing these dresses often and when the cotton finally wears down will use as a nightgown. love'\n",
      "  5]\n",
      " [\"I am so sad that this romper didn't work out. it's just way too billowy and huge. i am usually between a small and medium so i ordered this small. i'm petite and somewhat curvy and i was absolutely swimming in this romper! might look best on taller girls. i am 5 '2 and about 125-130 lbs and this was like wearing a tent. do not recommend. such a bummer because i was a believer after treading all of the great reviews!\"\n",
      "  3]\n",
      " ['Ordered these online and they fit perfectly. i was looking for lightweight pants for hot and humid summer days and this pair is exactly what i needed. the striped pattern is cute and adds some color.'\n",
      "  4]\n",
      " ['The sweater fits a bit awkward in the front. it draped more than i would have liked. also, the transition from the stripes to the solid gray felt non cohesive because of the stitching. returned the item.'\n",
      "  3]\n",
      " ['I love this simple but stylish t shirt - the fabric is soft and it fits true to size and i knew i would love it even before it was delivered. i recommend it!!'\n",
      "  5]]\n"
     ]
    }
   ],
   "source": [
    "print(clean_data[['review_text', 'rating']].sample(6).values)"
   ]
  },
  {
   "cell_type": "code",
   "execution_count": 53,
   "metadata": {},
   "outputs": [
    {
     "data": {
      "text/html": [
       "<div>\n",
       "<style scoped>\n",
       "    .dataframe tbody tr th:only-of-type {\n",
       "        vertical-align: middle;\n",
       "    }\n",
       "\n",
       "    .dataframe tbody tr th {\n",
       "        vertical-align: top;\n",
       "    }\n",
       "\n",
       "    .dataframe thead tr th {\n",
       "        text-align: left;\n",
       "    }\n",
       "\n",
       "    .dataframe thead tr:last-of-type th {\n",
       "        text-align: right;\n",
       "    }\n",
       "</style>\n",
       "<table border=\"1\" class=\"dataframe\">\n",
       "  <thead>\n",
       "    <tr>\n",
       "      <th></th>\n",
       "      <th colspan=\"4\" halign=\"left\">review_text</th>\n",
       "    </tr>\n",
       "    <tr>\n",
       "      <th></th>\n",
       "      <th>count</th>\n",
       "      <th>unique</th>\n",
       "      <th>top</th>\n",
       "      <th>freq</th>\n",
       "    </tr>\n",
       "    <tr>\n",
       "      <th>rating</th>\n",
       "      <th></th>\n",
       "      <th></th>\n",
       "      <th></th>\n",
       "      <th></th>\n",
       "    </tr>\n",
       "  </thead>\n",
       "  <tbody>\n",
       "    <tr>\n",
       "      <th>1</th>\n",
       "      <td>821</td>\n",
       "      <td>821</td>\n",
       "      <td>This shirt looked cute until i tried it on... ...</td>\n",
       "      <td>1</td>\n",
       "    </tr>\n",
       "    <tr>\n",
       "      <th>2</th>\n",
       "      <td>1549</td>\n",
       "      <td>1548</td>\n",
       "      <td>I purchased this and another eva franco dress ...</td>\n",
       "      <td>2</td>\n",
       "    </tr>\n",
       "    <tr>\n",
       "      <th>3</th>\n",
       "      <td>2823</td>\n",
       "      <td>2823</td>\n",
       "      <td>This dress arrived with a black rope belt and ...</td>\n",
       "      <td>1</td>\n",
       "    </tr>\n",
       "    <tr>\n",
       "      <th>4</th>\n",
       "      <td>4908</td>\n",
       "      <td>4908</td>\n",
       "      <td>Normally a 28, and on a fluke i dragged the 27...</td>\n",
       "      <td>1</td>\n",
       "    </tr>\n",
       "    <tr>\n",
       "      <th>5</th>\n",
       "      <td>12527</td>\n",
       "      <td>12521</td>\n",
       "      <td>Perfect fit and i've gotten so many compliment...</td>\n",
       "      <td>3</td>\n",
       "    </tr>\n",
       "  </tbody>\n",
       "</table>\n",
       "</div>"
      ],
      "text/plain": [
       "       review_text                                                            \\\n",
       "             count unique                                                top   \n",
       "rating                                                                         \n",
       "1              821    821  This shirt looked cute until i tried it on... ...   \n",
       "2             1549   1548  I purchased this and another eva franco dress ...   \n",
       "3             2823   2823  This dress arrived with a black rope belt and ...   \n",
       "4             4908   4908  Normally a 28, and on a fluke i dragged the 27...   \n",
       "5            12527  12521  Perfect fit and i've gotten so many compliment...   \n",
       "\n",
       "             \n",
       "       freq  \n",
       "rating       \n",
       "1         1  \n",
       "2         2  \n",
       "3         1  \n",
       "4         1  \n",
       "5         3  "
      ]
     },
     "execution_count": 53,
     "metadata": {},
     "output_type": "execute_result"
    }
   ],
   "source": [
    "clean_data[['review_text', 'rating']].groupby('rating').describe()"
   ]
  },
  {
   "cell_type": "markdown",
   "metadata": {},
   "source": [
    "The output above is showing the description of text reviews by rating. It is possible to see that most of the reviews are unique as they appear only once in the dataset and only 5 text reviews showed more than once at the dataset. "
   ]
  },
  {
   "cell_type": "markdown",
   "metadata": {},
   "source": [
    "##### 5.1.1. Generating WordCloud"
   ]
  },
  {
   "cell_type": "markdown",
   "metadata": {},
   "source": [
    "WordCloud is a good tool to visualize the frequency or importance of each word that is shown in the Review Text column. \n",
    "\n",
    "It is possible to see the positive experience from customers when we read, for example, the words 'love', 'nice' and 'really perfect'. Also, we can have the confirmation that 'top' and 'dress' are the products with the highest received reviews."
   ]
  },
  {
   "cell_type": "code",
   "execution_count": 54,
   "metadata": {},
   "outputs": [
    {
     "data": {
      "image/png": "[encoded data removed]",
      "text/plain": [
       "<Figure size 720x432 with 1 Axes>"
      ]
     },
     "metadata": {
      "needs_background": "light"
     },
     "output_type": "display_data"
    }
   ],
   "source": [
    "# Using wordcloud for review text column\n",
    "text = clean_data['review_text'].str.cat(sep=' ')\n",
    "\n",
    "# Creating and generating a wordcloud image\n",
    "wordcloud = WordCloud(max_words=200, background_color='white', width=600, height=400, margin=0).generate(text)\n",
    "\n",
    "# Displaying the image\n",
    "plt.figure(figsize=(10,6))\n",
    "plt.imshow(wordcloud, interpolation='bilinear')\n",
    "plt.axis(\"off\")\n",
    "plt.show()"
   ]
  },
  {
   "cell_type": "markdown",
   "metadata": {},
   "source": [
    "##### 5.1.2. Converting into Lower case"
   ]
  },
  {
   "cell_type": "markdown",
   "metadata": {},
   "source": [
    "In this first section, I will transform all the content of the review text into lower case. It is a good approach to avoid several copies of the same words. We can see how the text looks like after applying the lower case code below."
   ]
  },
  {
   "cell_type": "code",
   "execution_count": 56,
   "metadata": {},
   "outputs": [
    {
     "data": {
      "text/plain": [
       "0    absolutely wonderful - silky and sexy and comf...\n",
       "1    love this dress! it's sooo pretty. i happened ...\n",
       "2    i had such high hopes for this dress and reall...\n",
       "3    i love, love, love this jumpsuit. it's fun, fl...\n",
       "4    this shirt is very flattering to all due to th...\n",
       "Name: lower_review, dtype: object"
      ]
     },
     "execution_count": 56,
     "metadata": {},
     "output_type": "execute_result"
    }
   ],
   "source": [
    "clean_data['lower_review'] = clean_data['review_text'].apply(lambda x: \" \".join(x.lower() for x in x.split()))\n",
    "clean_data['lower_review'].head()"
   ]
  },
  {
   "cell_type": "markdown",
   "metadata": {},
   "source": [
    "##### 5.1.3. Removing Stopwords and Punctuation"
   ]
  },
  {
   "cell_type": "code",
   "execution_count": 57,
   "metadata": {},
   "outputs": [],
   "source": [
    "# Preparing to remove punctuation and stopwords\n",
    "punctuations = string.punctuation\n",
    "stop_words = set(stopwords.words('english'))"
   ]
  },
  {
   "cell_type": "markdown",
   "metadata": {},
   "source": [
    "For this second section, I will remove all the punctuation and stopwords from the review text using predefined libraries found at nltk. This approach will be helpful to decrease the size of the dataset to modelling.\n",
    "\n",
    "But before removing the stopwords from the data, I will calculate the number of stopwords, because it will permit extra information to identify how much we might have been losing before."
   ]
  },
  {
   "cell_type": "code",
   "execution_count": 58,
   "metadata": {},
   "outputs": [],
   "source": [
    "stopw_data = pd.DataFrame(clean_data['lower_review'])"
   ]
  },
  {
   "cell_type": "code",
   "execution_count": 59,
   "metadata": {},
   "outputs": [
    {
     "data": {
      "text/html": [
       "<div>\n",
       "<style scoped>\n",
       "    .dataframe tbody tr th:only-of-type {\n",
       "        vertical-align: middle;\n",
       "    }\n",
       "\n",
       "    .dataframe tbody tr th {\n",
       "        vertical-align: top;\n",
       "    }\n",
       "\n",
       "    .dataframe thead th {\n",
       "        text-align: right;\n",
       "    }\n",
       "</style>\n",
       "<table border=\"1\" class=\"dataframe\">\n",
       "  <thead>\n",
       "    <tr style=\"text-align: right;\">\n",
       "      <th></th>\n",
       "      <th>lower_review</th>\n",
       "      <th>stopwords_before</th>\n",
       "    </tr>\n",
       "  </thead>\n",
       "  <tbody>\n",
       "    <tr>\n",
       "      <th>0</th>\n",
       "      <td>absolutely wonderful - silky and sexy and comf...</td>\n",
       "      <td>2</td>\n",
       "    </tr>\n",
       "    <tr>\n",
       "      <th>1</th>\n",
       "      <td>love this dress! it's sooo pretty. i happened ...</td>\n",
       "      <td>30</td>\n",
       "    </tr>\n",
       "    <tr>\n",
       "      <th>2</th>\n",
       "      <td>i had such high hopes for this dress and reall...</td>\n",
       "      <td>46</td>\n",
       "    </tr>\n",
       "    <tr>\n",
       "      <th>3</th>\n",
       "      <td>i love, love, love this jumpsuit. it's fun, fl...</td>\n",
       "      <td>7</td>\n",
       "    </tr>\n",
       "    <tr>\n",
       "      <th>4</th>\n",
       "      <td>this shirt is very flattering to all due to th...</td>\n",
       "      <td>20</td>\n",
       "    </tr>\n",
       "  </tbody>\n",
       "</table>\n",
       "</div>"
      ],
      "text/plain": [
       "                                        lower_review  stopwords_before\n",
       "0  absolutely wonderful - silky and sexy and comf...                 2\n",
       "1  love this dress! it's sooo pretty. i happened ...                30\n",
       "2  i had such high hopes for this dress and reall...                46\n",
       "3  i love, love, love this jumpsuit. it's fun, fl...                 7\n",
       "4  this shirt is very flattering to all due to th...                20"
      ]
     },
     "execution_count": 59,
     "metadata": {},
     "output_type": "execute_result"
    }
   ],
   "source": [
    "stopw_data['stopwords_before'] = stopw_data['lower_review'].apply(lambda s: len([s for s in s.split() if s in stop_words]))\n",
    "stopw_data[['lower_review','stopwords_before']].head()"
   ]
  },
  {
   "cell_type": "code",
   "execution_count": 60,
   "metadata": {},
   "outputs": [
    {
     "name": "stdout",
     "output_type": "stream",
     "text": [
      "673161\n"
     ]
    }
   ],
   "source": [
    "# Getting the total of stop_words \n",
    "Total = stopw_data['stopwords_before'].sum()\n",
    "print (Total)"
   ]
  },
  {
   "cell_type": "markdown",
   "metadata": {},
   "source": [
    "Considering the previous output, it is good to know the total of the stopwords before applying the function.\n",
    "\n",
    "I will define a function to remove all punctuation, stopwords and finally returns a string of the cleaned text review, as we can see below. "
   ]
  },
  {
   "cell_type": "code",
   "execution_count": 61,
   "metadata": {},
   "outputs": [],
   "source": [
    "def text_clean(review):\n",
    "    \"\"\" \n",
    "    Takes in a string of text, then performs the following:\n",
    "    1. Remove all punctuation\n",
    "    2. Remove all stopwords\n",
    "    3. Returns a string of the cleaned text review\n",
    "    \"\"\"\n",
    "    texts = []\n",
    "    \n",
    "    # Checking the characters to see if there are any kind of punctuation\n",
    "    no_punc = [char for char in review if char not in punctuations]\n",
    "\n",
    "    # Joining the characters again to form the string\n",
    "    no_punc = ''.join(no_punc)\n",
    "    \n",
    "    # Removing any stopwords\n",
    "    tokens = [word for word in no_punc.split() if word.lower() not in stop_words]\n",
    "    \n",
    "    tokens1 = ' '.join(tokens)\n",
    "    \n",
    "    texts.append(tokens1)\n",
    "    return pd.Series(texts)"
   ]
  },
  {
   "cell_type": "markdown",
   "metadata": {},
   "source": [
    "### Step 6: Train - test split"
   ]
  },
  {
   "cell_type": "markdown",
   "metadata": {},
   "source": [
    "As mentioned before, the problem that I am going to be tackling is to predict the scores of women's clothes based on text reviews. \n",
    "\n",
    "Firstly, I am not going to use all the features. After getting the results I can work on it and then start to consider feature selection for evaluating the models."
   ]
  },
  {
   "cell_type": "code",
   "execution_count": 62,
   "metadata": {},
   "outputs": [
    {
     "data": {
      "text/html": [
       "<div>\n",
       "<style scoped>\n",
       "    .dataframe tbody tr th:only-of-type {\n",
       "        vertical-align: middle;\n",
       "    }\n",
       "\n",
       "    .dataframe tbody tr th {\n",
       "        vertical-align: top;\n",
       "    }\n",
       "\n",
       "    .dataframe thead th {\n",
       "        text-align: right;\n",
       "    }\n",
       "</style>\n",
       "<table border=\"1\" class=\"dataframe\">\n",
       "  <thead>\n",
       "    <tr style=\"text-align: right;\">\n",
       "      <th></th>\n",
       "      <th>clothing_id</th>\n",
       "      <th>age</th>\n",
       "      <th>title</th>\n",
       "      <th>review_text</th>\n",
       "      <th>rating</th>\n",
       "      <th>recommended_ind</th>\n",
       "      <th>positive_feedback_count</th>\n",
       "      <th>class_name</th>\n",
       "      <th>division_name_General</th>\n",
       "      <th>division_name_General Petite</th>\n",
       "      <th>division_name_Intimates</th>\n",
       "      <th>department_name_Bottoms</th>\n",
       "      <th>department_name_Dresses</th>\n",
       "      <th>department_name_Intimate</th>\n",
       "      <th>department_name_Jackets</th>\n",
       "      <th>department_name_Tops</th>\n",
       "      <th>department_name_Trend</th>\n",
       "      <th>lower_review</th>\n",
       "    </tr>\n",
       "  </thead>\n",
       "  <tbody>\n",
       "    <tr>\n",
       "      <th>0</th>\n",
       "      <td>767</td>\n",
       "      <td>33</td>\n",
       "      <td>Null</td>\n",
       "      <td>Absolutely wonderful - silky and sexy and comf...</td>\n",
       "      <td>4</td>\n",
       "      <td>1</td>\n",
       "      <td>0</td>\n",
       "      <td>Intimates</td>\n",
       "      <td>0</td>\n",
       "      <td>0</td>\n",
       "      <td>1</td>\n",
       "      <td>0</td>\n",
       "      <td>0</td>\n",
       "      <td>1</td>\n",
       "      <td>0</td>\n",
       "      <td>0</td>\n",
       "      <td>0</td>\n",
       "      <td>absolutely wonderful - silky and sexy and comf...</td>\n",
       "    </tr>\n",
       "    <tr>\n",
       "      <th>1</th>\n",
       "      <td>1080</td>\n",
       "      <td>34</td>\n",
       "      <td>Null</td>\n",
       "      <td>Love this dress!  it's sooo pretty.  i happene...</td>\n",
       "      <td>5</td>\n",
       "      <td>1</td>\n",
       "      <td>4</td>\n",
       "      <td>Dresses</td>\n",
       "      <td>1</td>\n",
       "      <td>0</td>\n",
       "      <td>0</td>\n",
       "      <td>0</td>\n",
       "      <td>1</td>\n",
       "      <td>0</td>\n",
       "      <td>0</td>\n",
       "      <td>0</td>\n",
       "      <td>0</td>\n",
       "      <td>love this dress! it's sooo pretty. i happened ...</td>\n",
       "    </tr>\n",
       "  </tbody>\n",
       "</table>\n",
       "</div>"
      ],
      "text/plain": [
       "   clothing_id  age title                                        review_text  \\\n",
       "0          767   33  Null  Absolutely wonderful - silky and sexy and comf...   \n",
       "1         1080   34  Null  Love this dress!  it's sooo pretty.  i happene...   \n",
       "\n",
       "   rating  recommended_ind  positive_feedback_count class_name  \\\n",
       "0       4                1                        0  Intimates   \n",
       "1       5                1                        4    Dresses   \n",
       "\n",
       "   division_name_General  division_name_General Petite  \\\n",
       "0                      0                             0   \n",
       "1                      1                             0   \n",
       "\n",
       "   division_name_Intimates  department_name_Bottoms  department_name_Dresses  \\\n",
       "0                        1                        0                        0   \n",
       "1                        0                        0                        1   \n",
       "\n",
       "   department_name_Intimate  department_name_Jackets  department_name_Tops  \\\n",
       "0                         1                        0                     0   \n",
       "1                         0                        0                     0   \n",
       "\n",
       "   department_name_Trend                                       lower_review  \n",
       "0                      0  absolutely wonderful - silky and sexy and comf...  \n",
       "1                      0  love this dress! it's sooo pretty. i happened ...  "
      ]
     },
     "execution_count": 62,
     "metadata": {},
     "output_type": "execute_result"
    }
   ],
   "source": [
    "clean_data.head(2)"
   ]
  },
  {
   "cell_type": "code",
   "execution_count": 63,
   "metadata": {},
   "outputs": [],
   "source": [
    "df = pd.DataFrame(clean_data[['lower_review', 'rating']])"
   ]
  },
  {
   "cell_type": "code",
   "execution_count": 64,
   "metadata": {},
   "outputs": [
    {
     "data": {
      "text/html": [
       "<div>\n",
       "<style scoped>\n",
       "    .dataframe tbody tr th:only-of-type {\n",
       "        vertical-align: middle;\n",
       "    }\n",
       "\n",
       "    .dataframe tbody tr th {\n",
       "        vertical-align: top;\n",
       "    }\n",
       "\n",
       "    .dataframe thead th {\n",
       "        text-align: right;\n",
       "    }\n",
       "</style>\n",
       "<table border=\"1\" class=\"dataframe\">\n",
       "  <thead>\n",
       "    <tr style=\"text-align: right;\">\n",
       "      <th></th>\n",
       "      <th>lower_review</th>\n",
       "      <th>rating</th>\n",
       "    </tr>\n",
       "  </thead>\n",
       "  <tbody>\n",
       "    <tr>\n",
       "      <th>0</th>\n",
       "      <td>absolutely wonderful - silky and sexy and comf...</td>\n",
       "      <td>4</td>\n",
       "    </tr>\n",
       "    <tr>\n",
       "      <th>1</th>\n",
       "      <td>love this dress! it's sooo pretty. i happened ...</td>\n",
       "      <td>5</td>\n",
       "    </tr>\n",
       "    <tr>\n",
       "      <th>2</th>\n",
       "      <td>i had such high hopes for this dress and reall...</td>\n",
       "      <td>3</td>\n",
       "    </tr>\n",
       "    <tr>\n",
       "      <th>3</th>\n",
       "      <td>i love, love, love this jumpsuit. it's fun, fl...</td>\n",
       "      <td>5</td>\n",
       "    </tr>\n",
       "    <tr>\n",
       "      <th>4</th>\n",
       "      <td>this shirt is very flattering to all due to th...</td>\n",
       "      <td>5</td>\n",
       "    </tr>\n",
       "  </tbody>\n",
       "</table>\n",
       "</div>"
      ],
      "text/plain": [
       "                                        lower_review  rating\n",
       "0  absolutely wonderful - silky and sexy and comf...       4\n",
       "1  love this dress! it's sooo pretty. i happened ...       5\n",
       "2  i had such high hopes for this dress and reall...       3\n",
       "3  i love, love, love this jumpsuit. it's fun, fl...       5\n",
       "4  this shirt is very flattering to all due to th...       5"
      ]
     },
     "execution_count": 64,
     "metadata": {},
     "output_type": "execute_result"
    }
   ],
   "source": [
    "df.head()"
   ]
  },
  {
   "cell_type": "code",
   "execution_count": 65,
   "metadata": {},
   "outputs": [],
   "source": [
    "# Applying the function 'text_clean'\n",
    "df['clean_review'] = df['lower_review'].apply(text_clean)"
   ]
  },
  {
   "cell_type": "code",
   "execution_count": 66,
   "metadata": {},
   "outputs": [
    {
     "data": {
      "text/html": [
       "<div>\n",
       "<style scoped>\n",
       "    .dataframe tbody tr th:only-of-type {\n",
       "        vertical-align: middle;\n",
       "    }\n",
       "\n",
       "    .dataframe tbody tr th {\n",
       "        vertical-align: top;\n",
       "    }\n",
       "\n",
       "    .dataframe thead th {\n",
       "        text-align: right;\n",
       "    }\n",
       "</style>\n",
       "<table border=\"1\" class=\"dataframe\">\n",
       "  <thead>\n",
       "    <tr style=\"text-align: right;\">\n",
       "      <th></th>\n",
       "      <th>lower_review</th>\n",
       "      <th>rating</th>\n",
       "      <th>clean_review</th>\n",
       "    </tr>\n",
       "  </thead>\n",
       "  <tbody>\n",
       "    <tr>\n",
       "      <th>0</th>\n",
       "      <td>absolutely wonderful - silky and sexy and comf...</td>\n",
       "      <td>4</td>\n",
       "      <td>absolutely wonderful silky sexy comfortable</td>\n",
       "    </tr>\n",
       "    <tr>\n",
       "      <th>1</th>\n",
       "      <td>love this dress! it's sooo pretty. i happened ...</td>\n",
       "      <td>5</td>\n",
       "      <td>love dress sooo pretty happened find store im ...</td>\n",
       "    </tr>\n",
       "    <tr>\n",
       "      <th>2</th>\n",
       "      <td>i had such high hopes for this dress and reall...</td>\n",
       "      <td>3</td>\n",
       "      <td>high hopes dress really wanted work initially ...</td>\n",
       "    </tr>\n",
       "    <tr>\n",
       "      <th>3</th>\n",
       "      <td>i love, love, love this jumpsuit. it's fun, fl...</td>\n",
       "      <td>5</td>\n",
       "      <td>love love love jumpsuit fun flirty fabulous ev...</td>\n",
       "    </tr>\n",
       "    <tr>\n",
       "      <th>4</th>\n",
       "      <td>this shirt is very flattering to all due to th...</td>\n",
       "      <td>5</td>\n",
       "      <td>shirt flattering due adjustable front tie perf...</td>\n",
       "    </tr>\n",
       "  </tbody>\n",
       "</table>\n",
       "</div>"
      ],
      "text/plain": [
       "                                        lower_review  rating  \\\n",
       "0  absolutely wonderful - silky and sexy and comf...       4   \n",
       "1  love this dress! it's sooo pretty. i happened ...       5   \n",
       "2  i had such high hopes for this dress and reall...       3   \n",
       "3  i love, love, love this jumpsuit. it's fun, fl...       5   \n",
       "4  this shirt is very flattering to all due to th...       5   \n",
       "\n",
       "                                        clean_review  \n",
       "0        absolutely wonderful silky sexy comfortable  \n",
       "1  love dress sooo pretty happened find store im ...  \n",
       "2  high hopes dress really wanted work initially ...  \n",
       "3  love love love jumpsuit fun flirty fabulous ev...  \n",
       "4  shirt flattering due adjustable front tie perf...  "
      ]
     },
     "execution_count": 66,
     "metadata": {},
     "output_type": "execute_result"
    }
   ],
   "source": [
    "df.head()"
   ]
  },
  {
   "cell_type": "code",
   "execution_count": 67,
   "metadata": {},
   "outputs": [],
   "source": [
    "# Seperating the dataset into X and y for prediction\n",
    "X = df['clean_review']\n",
    "y = df['rating']"
   ]
  },
  {
   "cell_type": "code",
   "execution_count": 68,
   "metadata": {},
   "outputs": [
    {
     "name": "stdout",
     "output_type": "stream",
     "text": [
      "X shape: (22628,)\n",
      "y shape: (22628,)\n"
     ]
    }
   ],
   "source": [
    "print(\"X shape:\", X.shape)\n",
    "print(\"y shape:\", y.shape)"
   ]
  },
  {
   "cell_type": "code",
   "execution_count": 69,
   "metadata": {},
   "outputs": [],
   "source": [
    "# Splitting into training and test sets\n",
    "X_train, X_test, y_train, y_test = train_test_split(X, y, test_size=0.2, random_state=101)"
   ]
  },
  {
   "cell_type": "code",
   "execution_count": 70,
   "metadata": {},
   "outputs": [
    {
     "name": "stdout",
     "output_type": "stream",
     "text": [
      "X_train shape: (18102,)\n",
      "y_train shape: (18102,)\n",
      "X_test shape: (4526,)\n",
      "y_test shape: (4526,)\n"
     ]
    }
   ],
   "source": [
    "print(\"X_train shape:\", X_train.shape)\n",
    "print(\"y_train shape:\", y_train.shape)\n",
    "print(\"X_test shape:\", X_test.shape)\n",
    "print(\"y_test shape:\", y_test.shape)"
   ]
  },
  {
   "cell_type": "markdown",
   "metadata": {},
   "source": [
    "### Step 7: Converting Text to Numbers "
   ]
  },
  {
   "cell_type": "markdown",
   "metadata": {},
   "source": [
    "As we know, machines, as opposed to humans, and do not understand the raw text. \n",
    "\n",
    "Therefore, to proceed with this project I need to convert the text into numbers. Various approaches convert text into the corresponding numerical form. For this project, I will use Bag of Words."
   ]
  },
  {
   "cell_type": "markdown",
   "metadata": {},
   "source": [
    "#### 7.1. Bag of Words"
   ]
  },
  {
   "cell_type": "code",
   "execution_count": 74,
   "metadata": {},
   "outputs": [],
   "source": [
    "# Creating CountVectorizer object\n",
    "count_vect = CountVectorizer()"
   ]
  },
  {
   "cell_type": "code",
   "execution_count": 75,
   "metadata": {},
   "outputs": [],
   "source": [
    "X_train_bow = count_vect.fit_transform(X_train)\n",
    "X_train_bow = X_train_bow.toarray()"
   ]
  },
  {
   "cell_type": "code",
   "execution_count": 76,
   "metadata": {},
   "outputs": [
    {
     "data": {
      "text/plain": [
       "(18102, 17051)"
      ]
     },
     "execution_count": 76,
     "metadata": {},
     "output_type": "execute_result"
    }
   ],
   "source": [
    "X_train_bow.shape"
   ]
  },
  {
   "cell_type": "code",
   "execution_count": 77,
   "metadata": {},
   "outputs": [],
   "source": [
    "X_test_bow = count_vect.transform(X_test).toarray()"
   ]
  },
  {
   "cell_type": "code",
   "execution_count": 78,
   "metadata": {},
   "outputs": [
    {
     "data": {
      "text/plain": [
       "(4526, 17051)"
      ]
     },
     "execution_count": 78,
     "metadata": {},
     "output_type": "execute_result"
    }
   ],
   "source": [
    "X_test_bow.shape"
   ]
  },
  {
   "cell_type": "code",
   "execution_count": 79,
   "metadata": {},
   "outputs": [
    {
     "data": {
      "text/plain": [
       "numpy.ndarray"
      ]
     },
     "execution_count": 79,
     "metadata": {},
     "output_type": "execute_result"
    }
   ],
   "source": [
    "type(X_train_bow)"
   ]
  },
  {
   "cell_type": "code",
   "execution_count": 80,
   "metadata": {},
   "outputs": [
    {
     "data": {
      "text/plain": [
       "numpy.ndarray"
      ]
     },
     "execution_count": 80,
     "metadata": {},
     "output_type": "execute_result"
    }
   ],
   "source": [
    "type(X_test_bow)"
   ]
  },
  {
   "cell_type": "markdown",
   "metadata": {},
   "source": [
    "#### 7.1.1. Finding Term Frequency - Inverse Document Frequency (TF-IDF)"
   ]
  },
  {
   "cell_type": "markdown",
   "metadata": {},
   "source": [
    "I will transform the X_train_bow that was created as bag-of-words into TF-IDF below."
   ]
  },
  {
   "cell_type": "code",
   "execution_count": 81,
   "metadata": {},
   "outputs": [],
   "source": [
    "# Creating TfidfTransformer object\n",
    "tfidf_transformer = TfidfTransformer()"
   ]
  },
  {
   "cell_type": "code",
   "execution_count": 82,
   "metadata": {},
   "outputs": [],
   "source": [
    "X_train_tfidf = tfidf_transformer.fit_transform(X_train_bow)\n",
    "X_train_tfidf = X_train_tfidf.toarray()"
   ]
  },
  {
   "cell_type": "code",
   "execution_count": 83,
   "metadata": {},
   "outputs": [
    {
     "data": {
      "text/plain": [
       "(18102, 17051)"
      ]
     },
     "execution_count": 83,
     "metadata": {},
     "output_type": "execute_result"
    }
   ],
   "source": [
    "X_train_tfidf.shape"
   ]
  },
  {
   "cell_type": "code",
   "execution_count": 84,
   "metadata": {},
   "outputs": [
    {
     "data": {
      "text/plain": [
       "array([[0., 0., 0., ..., 0., 0., 0.],\n",
       "       [0., 0., 0., ..., 0., 0., 0.],\n",
       "       [0., 0., 0., ..., 0., 0., 0.],\n",
       "       ...,\n",
       "       [0., 0., 0., ..., 0., 0., 0.],\n",
       "       [0., 0., 0., ..., 0., 0., 0.],\n",
       "       [0., 0., 0., ..., 0., 0., 0.]])"
      ]
     },
     "execution_count": 84,
     "metadata": {},
     "output_type": "execute_result"
    }
   ],
   "source": [
    "X_train_tfidf"
   ]
  },
  {
   "cell_type": "code",
   "execution_count": 85,
   "metadata": {},
   "outputs": [],
   "source": [
    "X_test_tfidf = tfidf_transformer.transform(X_test_bow).toarray()"
   ]
  },
  {
   "cell_type": "code",
   "execution_count": 86,
   "metadata": {},
   "outputs": [
    {
     "data": {
      "text/plain": [
       "(4526, 17051)"
      ]
     },
     "execution_count": 86,
     "metadata": {},
     "output_type": "execute_result"
    }
   ],
   "source": [
    "X_test_tfidf.shape"
   ]
  },
  {
   "cell_type": "code",
   "execution_count": 87,
   "metadata": {},
   "outputs": [
    {
     "data": {
      "text/plain": [
       "array([[0., 0., 0., ..., 0., 0., 0.],\n",
       "       [0., 0., 0., ..., 0., 0., 0.],\n",
       "       [0., 0., 0., ..., 0., 0., 0.],\n",
       "       ...,\n",
       "       [0., 0., 0., ..., 0., 0., 0.],\n",
       "       [0., 0., 0., ..., 0., 0., 0.],\n",
       "       [0., 0., 0., ..., 0., 0., 0.]])"
      ]
     },
     "execution_count": 87,
     "metadata": {},
     "output_type": "execute_result"
    }
   ],
   "source": [
    "X_test_tfidf"
   ]
  },
  {
   "cell_type": "markdown",
   "metadata": {},
   "source": [
    "### Step 8: Fitting Linear Regression model"
   ]
  },
  {
   "cell_type": "markdown",
   "metadata": {},
   "source": [
    "After all the process shown above, we have the text reviews represented as vectors, so we can train the regression problem to predict the rating. \n",
    "\n",
    "I'll be using scikit-learn here, choosing the Linear Regression to start with."
   ]
  },
  {
   "cell_type": "code",
   "execution_count": 88,
   "metadata": {},
   "outputs": [],
   "source": [
    "lm_tfidf = LinearRegression()"
   ]
  },
  {
   "cell_type": "code",
   "execution_count": 89,
   "metadata": {},
   "outputs": [
    {
     "data": {
      "text/plain": [
       "LinearRegression(copy_X=True, fit_intercept=True, n_jobs=None,\n",
       "         normalize=False)"
      ]
     },
     "execution_count": 89,
     "metadata": {},
     "output_type": "execute_result"
    }
   ],
   "source": [
    "# Fitting linear regression model into the training data\n",
    "lm_tfidf.fit(X_train_tfidf, y_train)"
   ]
  },
  {
   "cell_type": "code",
   "execution_count": 90,
   "metadata": {},
   "outputs": [
    {
     "name": "stdout",
     "output_type": "stream",
     "text": [
      "Bias: 3.928981229305636\n",
      "Coefficients: 2.083512892576648\n"
     ]
    }
   ],
   "source": [
    "#The bias term\n",
    "bias_tfidf = lm_tfidf.intercept_\n",
    "\n",
    "#The coefficient, notice it returns an array with one spot for each feature\n",
    "coefficient_tfidf = lm_tfidf.coef_[0] \n",
    "\n",
    "print('Bias:', bias_tfidf)\n",
    "print('Coefficients:', coefficient_tfidf)"
   ]
  },
  {
   "cell_type": "code",
   "execution_count": 91,
   "metadata": {},
   "outputs": [
    {
     "data": {
      "text/plain": [
       "3.928981229305636"
      ]
     },
     "execution_count": 91,
     "metadata": {},
     "output_type": "execute_result"
    }
   ],
   "source": [
    "lm_tfidf.intercept_ # value of beta_0"
   ]
  },
  {
   "cell_type": "code",
   "execution_count": 92,
   "metadata": {},
   "outputs": [
    {
     "data": {
      "text/plain": [
       "array([ 2.08351289e+00, -1.19742940e+00,  4.34722861e-01, ...,\n",
       "       -2.33509820e+13, -1.10697478e+13,  1.14238739e+13])"
      ]
     },
     "execution_count": 92,
     "metadata": {},
     "output_type": "execute_result"
    }
   ],
   "source": [
    "lm_tfidf.coef_ # value of beta_1"
   ]
  },
  {
   "cell_type": "code",
   "execution_count": 93,
   "metadata": {},
   "outputs": [
    {
     "name": "stdout",
     "output_type": "stream",
     "text": [
      "Score on train data model was fitted to: 0.821626730136805\n",
      "Score on test data model was fitted to: -5.293842132604825e+25\n"
     ]
    }
   ],
   "source": [
    "print(\"Score on train data model was fitted to:\", lm_tfidf.score(X_train_tfidf, y_train))\n",
    "print(\"Score on test data model was fitted to:\", lm_tfidf.score(X_test_tfidf, y_test))"
   ]
  },
  {
   "cell_type": "code",
   "execution_count": 94,
   "metadata": {},
   "outputs": [],
   "source": [
    "# Evaluating the model\n",
    "y_pred_train_tfidf = lm_tfidf.predict(X_train_tfidf)\n",
    "y_pred_test_tfidf = lm_tfidf.predict(X_test_tfidf)"
   ]
  },
  {
   "cell_type": "code",
   "execution_count": 95,
   "metadata": {},
   "outputs": [
    {
     "name": "stdout",
     "output_type": "stream",
     "text": [
      "MAE: 0.3526187669308382\n",
      "MSE: 0.22203490900896689\n",
      "RMSE: 0.4712058032420302\n"
     ]
    }
   ],
   "source": [
    "# Regression Evaluation Metrics\n",
    "print('MAE:', metrics.mean_absolute_error(y_train, y_pred_train_tfidf))\n",
    "print('MSE:', metrics.mean_squared_error(y_train, y_pred_train_tfidf))\n",
    "print('RMSE:', np.sqrt(metrics.mean_squared_error(y_train, y_pred_train_tfidf)))"
   ]
  },
  {
   "cell_type": "code",
   "execution_count": 96,
   "metadata": {},
   "outputs": [
    {
     "name": "stdout",
     "output_type": "stream",
     "text": [
      "MAE: 2256636674713.957\n",
      "MSE: 6.600894467516365e+25\n",
      "RMSE: 8124588892686.426\n"
     ]
    }
   ],
   "source": [
    "# Regression Evaluation Metrics\n",
    "print('MAE:', metrics.mean_absolute_error(y_test, y_pred_test_tfidf))\n",
    "print('MSE:', metrics.mean_squared_error(y_test, y_pred_test_tfidf))\n",
    "print('RMSE:', np.sqrt(metrics.mean_squared_error(y_test, y_pred_test_tfidf)))"
   ]
  },
  {
   "cell_type": "markdown",
   "metadata": {},
   "source": [
    "The previous output shows that the MSE, one of the two evaluation metrics, is around 0.22 for train data and a value of 6.600894467516365e+25 for test data. On the other hand, the score is around 0.82 for train data and a small negative number for test data, which we can see that the model is not doing well."
   ]
  },
  {
   "cell_type": "markdown",
   "metadata": {},
   "source": [
    "### Step 9: Regularization of Linear Regression"
   ]
  },
  {
   "cell_type": "markdown",
   "metadata": {},
   "source": [
    "I will now apply regularization to the previous Linear Regression model."
   ]
  },
  {
   "cell_type": "markdown",
   "metadata": {},
   "source": [
    "#### 9.1. Ridge Regression"
   ]
  },
  {
   "cell_type": "markdown",
   "metadata": {},
   "source": [
    "For this project, I will use Ridge Regression where the loss function is modified to minimize the complexity of the model. \n",
    "\n",
    "Therefore, I need to tune the parameter called alpha. As we know, a low alpha value can lead to over-fitting, although a high alpha value can lead to under-fitting."
   ]
  },
  {
   "cell_type": "code",
   "execution_count": 97,
   "metadata": {},
   "outputs": [
    {
     "name": "stdout",
     "output_type": "stream",
     "text": [
      "0.39228574296508856\n",
      "0.8763729341035184\n",
      "1.0326981403220232\n",
      "0.14470686438078995\n"
     ]
    }
   ],
   "source": [
    "ridge_reg = Ridge(alpha = 0.01)\n",
    "ridge_reg.fit(X_train_tfidf, y_train)\n",
    "\n",
    "pred_train_ridge_reg = ridge_reg.predict(X_train_tfidf)\n",
    "\n",
    "print(np.sqrt(mean_squared_error(y_train, pred_train_ridge_reg)))\n",
    "print(r2_score(y_train, pred_train_ridge_reg))\n",
    "\n",
    "pred_test_ridge_reg = ridge_reg.predict(X_test_tfidf)\n",
    "\n",
    "print(np.sqrt(mean_squared_error(y_test,pred_test_ridge_reg))) \n",
    "print(r2_score(y_test, pred_test_ridge_reg))"
   ]
  },
  {
   "cell_type": "code",
   "execution_count": 98,
   "metadata": {},
   "outputs": [
    {
     "name": "stdout",
     "output_type": "stream",
     "text": [
      "0.7195771424728874\n",
      "0.5840288300922226\n",
      "0.7848992537444788\n",
      "0.5059214168090347\n"
     ]
    }
   ],
   "source": [
    "ridge_reg = Ridge(alpha = 5)\n",
    "ridge_reg.fit(X_train_tfidf, y_train)\n",
    "\n",
    "pred_train_ridge_reg = ridge_reg.predict(X_train_tfidf)\n",
    "\n",
    "print(np.sqrt(mean_squared_error(y_train, pred_train_ridge_reg)))\n",
    "print(r2_score(y_train, pred_train_ridge_reg))\n",
    "\n",
    "pred_test_ridge_reg = ridge_reg.predict(X_test_tfidf)\n",
    "\n",
    "print(np.sqrt(mean_squared_error(y_test,pred_test_ridge_reg))) \n",
    "print(r2_score(y_test, pred_test_ridge_reg))"
   ]
  },
  {
   "cell_type": "markdown",
   "metadata": {},
   "source": [
    "Considering the output above for alpha equal to 5, it is possible to see that the MSE and R-squared values for the Ridge Regression model on the training data is 0.71 and 58.40 percent, respectively. For the test data, the result for these metrics is 0.50 and 50.59 percent, respectively."
   ]
  },
  {
   "cell_type": "markdown",
   "metadata": {},
   "source": [
    "### Step 10: Comparing the results"
   ]
  },
  {
   "cell_type": "markdown",
   "metadata": {},
   "source": [
    "Based on the previous results, the performance of the Linear Rregression and Ridge Regression models is summarized below:\n",
    "\n",
    "1. Linear Regression Model: Test set MSE with a value of 6.600894467516365e+25 and R-square of -5.293842132604825e+25.\n",
    "\n",
    "2. Ridge Regression Model: Test set MSE of 0.78 and R-square of 50.59 percent.\n",
    "\n",
    "The Linear Regression model is performing the worst. Moreover, the Rigde Reegression model is performing better with values of R-squared."
   ]
  },
  {
   "cell_type": "markdown",
   "metadata": {},
   "source": [
    "### Step 11: Feature Selection"
   ]
  },
  {
   "cell_type": "code",
   "execution_count": 99,
   "metadata": {},
   "outputs": [],
   "source": [
    "from sklearn import feature_selection"
   ]
  },
  {
   "cell_type": "code",
   "execution_count": 100,
   "metadata": {
    "scrolled": true
   },
   "outputs": [
    {
     "data": {
      "text/html": [
       "<div>\n",
       "<style scoped>\n",
       "    .dataframe tbody tr th:only-of-type {\n",
       "        vertical-align: middle;\n",
       "    }\n",
       "\n",
       "    .dataframe tbody tr th {\n",
       "        vertical-align: top;\n",
       "    }\n",
       "\n",
       "    .dataframe thead th {\n",
       "        text-align: right;\n",
       "    }\n",
       "</style>\n",
       "<table border=\"1\" class=\"dataframe\">\n",
       "  <thead>\n",
       "    <tr style=\"text-align: right;\">\n",
       "      <th></th>\n",
       "      <th>clothing_id</th>\n",
       "      <th>age</th>\n",
       "      <th>title</th>\n",
       "      <th>review_text</th>\n",
       "      <th>rating</th>\n",
       "      <th>recommended_ind</th>\n",
       "      <th>positive_feedback_count</th>\n",
       "      <th>class_name</th>\n",
       "      <th>division_name_General</th>\n",
       "      <th>division_name_General Petite</th>\n",
       "      <th>division_name_Intimates</th>\n",
       "      <th>department_name_Bottoms</th>\n",
       "      <th>department_name_Dresses</th>\n",
       "      <th>department_name_Intimate</th>\n",
       "      <th>department_name_Jackets</th>\n",
       "      <th>department_name_Tops</th>\n",
       "      <th>department_name_Trend</th>\n",
       "      <th>lower_review</th>\n",
       "    </tr>\n",
       "  </thead>\n",
       "  <tbody>\n",
       "    <tr>\n",
       "      <th>0</th>\n",
       "      <td>767</td>\n",
       "      <td>33</td>\n",
       "      <td>Null</td>\n",
       "      <td>Absolutely wonderful - silky and sexy and comf...</td>\n",
       "      <td>4</td>\n",
       "      <td>1</td>\n",
       "      <td>0</td>\n",
       "      <td>Intimates</td>\n",
       "      <td>0</td>\n",
       "      <td>0</td>\n",
       "      <td>1</td>\n",
       "      <td>0</td>\n",
       "      <td>0</td>\n",
       "      <td>1</td>\n",
       "      <td>0</td>\n",
       "      <td>0</td>\n",
       "      <td>0</td>\n",
       "      <td>absolutely wonderful - silky and sexy and comf...</td>\n",
       "    </tr>\n",
       "    <tr>\n",
       "      <th>1</th>\n",
       "      <td>1080</td>\n",
       "      <td>34</td>\n",
       "      <td>Null</td>\n",
       "      <td>Love this dress!  it's sooo pretty.  i happene...</td>\n",
       "      <td>5</td>\n",
       "      <td>1</td>\n",
       "      <td>4</td>\n",
       "      <td>Dresses</td>\n",
       "      <td>1</td>\n",
       "      <td>0</td>\n",
       "      <td>0</td>\n",
       "      <td>0</td>\n",
       "      <td>1</td>\n",
       "      <td>0</td>\n",
       "      <td>0</td>\n",
       "      <td>0</td>\n",
       "      <td>0</td>\n",
       "      <td>love this dress! it's sooo pretty. i happened ...</td>\n",
       "    </tr>\n",
       "    <tr>\n",
       "      <th>2</th>\n",
       "      <td>1077</td>\n",
       "      <td>60</td>\n",
       "      <td>Some major design flaws</td>\n",
       "      <td>I had such high hopes for this dress and reall...</td>\n",
       "      <td>3</td>\n",
       "      <td>0</td>\n",
       "      <td>0</td>\n",
       "      <td>Dresses</td>\n",
       "      <td>1</td>\n",
       "      <td>0</td>\n",
       "      <td>0</td>\n",
       "      <td>0</td>\n",
       "      <td>1</td>\n",
       "      <td>0</td>\n",
       "      <td>0</td>\n",
       "      <td>0</td>\n",
       "      <td>0</td>\n",
       "      <td>i had such high hopes for this dress and reall...</td>\n",
       "    </tr>\n",
       "  </tbody>\n",
       "</table>\n",
       "</div>"
      ],
      "text/plain": [
       "   clothing_id  age                    title  \\\n",
       "0          767   33                     Null   \n",
       "1         1080   34                     Null   \n",
       "2         1077   60  Some major design flaws   \n",
       "\n",
       "                                         review_text  rating  recommended_ind  \\\n",
       "0  Absolutely wonderful - silky and sexy and comf...       4                1   \n",
       "1  Love this dress!  it's sooo pretty.  i happene...       5                1   \n",
       "2  I had such high hopes for this dress and reall...       3                0   \n",
       "\n",
       "   positive_feedback_count class_name  division_name_General  \\\n",
       "0                        0  Intimates                      0   \n",
       "1                        4    Dresses                      1   \n",
       "2                        0    Dresses                      1   \n",
       "\n",
       "   division_name_General Petite  division_name_Intimates  \\\n",
       "0                             0                        1   \n",
       "1                             0                        0   \n",
       "2                             0                        0   \n",
       "\n",
       "   department_name_Bottoms  department_name_Dresses  department_name_Intimate  \\\n",
       "0                        0                        0                         1   \n",
       "1                        0                        1                         0   \n",
       "2                        0                        1                         0   \n",
       "\n",
       "   department_name_Jackets  department_name_Tops  department_name_Trend  \\\n",
       "0                        0                     0                      0   \n",
       "1                        0                     0                      0   \n",
       "2                        0                     0                      0   \n",
       "\n",
       "                                        lower_review  \n",
       "0  absolutely wonderful - silky and sexy and comf...  \n",
       "1  love this dress! it's sooo pretty. i happened ...  \n",
       "2  i had such high hopes for this dress and reall...  "
      ]
     },
     "execution_count": 100,
     "metadata": {},
     "output_type": "execute_result"
    }
   ],
   "source": [
    "clean_data.head(3)"
   ]
  },
  {
   "cell_type": "code",
   "execution_count": 101,
   "metadata": {},
   "outputs": [
    {
     "data": {
      "text/plain": [
       "Index(['clothing_id', 'age', 'title', 'review_text', 'rating',\n",
       "       'recommended_ind', 'positive_feedback_count', 'class_name',\n",
       "       'division_name_General', 'division_name_General Petite',\n",
       "       'division_name_Intimates', 'department_name_Bottoms',\n",
       "       'department_name_Dresses', 'department_name_Intimate',\n",
       "       'department_name_Jackets', 'department_name_Tops',\n",
       "       'department_name_Trend', 'lower_review'],\n",
       "      dtype='object')"
      ]
     },
     "execution_count": 101,
     "metadata": {},
     "output_type": "execute_result"
    }
   ],
   "source": [
    "clean_data.columns"
   ]
  },
  {
   "cell_type": "code",
   "execution_count": 102,
   "metadata": {},
   "outputs": [],
   "source": [
    "features_to_include = ['age','recommended_ind', 'positive_feedback_count', 'division_name_General', \n",
    "                       'division_name_General Petite','division_name_Intimates', 'department_name_Bottoms',\n",
    "                       'department_name_Dresses', 'department_name_Intimate',\n",
    "                       'department_name_Jackets', 'department_name_Tops','department_name_Trend']"
   ]
  },
  {
   "cell_type": "code",
   "execution_count": 103,
   "metadata": {},
   "outputs": [],
   "source": [
    "feature_importances = feature_selection.mutual_info_regression(clean_data[features_to_include], clean_data['rating'])"
   ]
  },
  {
   "cell_type": "code",
   "execution_count": 104,
   "metadata": {},
   "outputs": [],
   "source": [
    "feat_importance_df = pd.DataFrame(list(zip(features_to_include,feature_importances)), \n",
    "                                  columns=['feature','importance'])"
   ]
  },
  {
   "cell_type": "code",
   "execution_count": 105,
   "metadata": {},
   "outputs": [],
   "source": [
    "feat_importance_df.sort_values(by='importance', ascending=False, inplace=True)"
   ]
  },
  {
   "cell_type": "code",
   "execution_count": 106,
   "metadata": {},
   "outputs": [
    {
     "data": {
      "text/plain": [
       "['recommended_ind',\n",
       " 'division_name_General Petite',\n",
       " 'age',\n",
       " 'department_name_Tops',\n",
       " 'positive_feedback_count']"
      ]
     },
     "execution_count": 106,
     "metadata": {},
     "output_type": "execute_result"
    }
   ],
   "source": [
    "top_feats = [x for x in feat_importance_df['feature'][0:5]]\n",
    "top_feats"
   ]
  },
  {
   "cell_type": "code",
   "execution_count": 107,
   "metadata": {},
   "outputs": [
    {
     "data": {
      "text/plain": [
       "array([0.00383304, 0.32949616, 0.        , 0.        , 0.00538266,\n",
       "       0.        , 0.        , 0.        , 0.        , 0.        ,\n",
       "       0.00057067, 0.        ])"
      ]
     },
     "execution_count": 107,
     "metadata": {},
     "output_type": "execute_result"
    }
   ],
   "source": [
    "feature_importances"
   ]
  },
  {
   "cell_type": "code",
   "execution_count": 108,
   "metadata": {},
   "outputs": [
    {
     "data": {
      "text/html": [
       "<div>\n",
       "<style scoped>\n",
       "    .dataframe tbody tr th:only-of-type {\n",
       "        vertical-align: middle;\n",
       "    }\n",
       "\n",
       "    .dataframe tbody tr th {\n",
       "        vertical-align: top;\n",
       "    }\n",
       "\n",
       "    .dataframe thead th {\n",
       "        text-align: right;\n",
       "    }\n",
       "</style>\n",
       "<table border=\"1\" class=\"dataframe\">\n",
       "  <thead>\n",
       "    <tr style=\"text-align: right;\">\n",
       "      <th></th>\n",
       "      <th>feature</th>\n",
       "      <th>importance</th>\n",
       "    </tr>\n",
       "  </thead>\n",
       "  <tbody>\n",
       "    <tr>\n",
       "      <th>1</th>\n",
       "      <td>recommended_ind</td>\n",
       "      <td>0.329496</td>\n",
       "    </tr>\n",
       "    <tr>\n",
       "      <th>4</th>\n",
       "      <td>division_name_General Petite</td>\n",
       "      <td>0.005383</td>\n",
       "    </tr>\n",
       "    <tr>\n",
       "      <th>0</th>\n",
       "      <td>age</td>\n",
       "      <td>0.003833</td>\n",
       "    </tr>\n",
       "    <tr>\n",
       "      <th>10</th>\n",
       "      <td>department_name_Tops</td>\n",
       "      <td>0.000571</td>\n",
       "    </tr>\n",
       "    <tr>\n",
       "      <th>2</th>\n",
       "      <td>positive_feedback_count</td>\n",
       "      <td>0.000000</td>\n",
       "    </tr>\n",
       "    <tr>\n",
       "      <th>3</th>\n",
       "      <td>division_name_General</td>\n",
       "      <td>0.000000</td>\n",
       "    </tr>\n",
       "    <tr>\n",
       "      <th>5</th>\n",
       "      <td>division_name_Intimates</td>\n",
       "      <td>0.000000</td>\n",
       "    </tr>\n",
       "    <tr>\n",
       "      <th>6</th>\n",
       "      <td>department_name_Bottoms</td>\n",
       "      <td>0.000000</td>\n",
       "    </tr>\n",
       "    <tr>\n",
       "      <th>7</th>\n",
       "      <td>department_name_Dresses</td>\n",
       "      <td>0.000000</td>\n",
       "    </tr>\n",
       "    <tr>\n",
       "      <th>8</th>\n",
       "      <td>department_name_Intimate</td>\n",
       "      <td>0.000000</td>\n",
       "    </tr>\n",
       "    <tr>\n",
       "      <th>9</th>\n",
       "      <td>department_name_Jackets</td>\n",
       "      <td>0.000000</td>\n",
       "    </tr>\n",
       "    <tr>\n",
       "      <th>11</th>\n",
       "      <td>department_name_Trend</td>\n",
       "      <td>0.000000</td>\n",
       "    </tr>\n",
       "  </tbody>\n",
       "</table>\n",
       "</div>"
      ],
      "text/plain": [
       "                         feature  importance\n",
       "1                recommended_ind    0.329496\n",
       "4   division_name_General Petite    0.005383\n",
       "0                            age    0.003833\n",
       "10          department_name_Tops    0.000571\n",
       "2        positive_feedback_count    0.000000\n",
       "3          division_name_General    0.000000\n",
       "5        division_name_Intimates    0.000000\n",
       "6        department_name_Bottoms    0.000000\n",
       "7        department_name_Dresses    0.000000\n",
       "8       department_name_Intimate    0.000000\n",
       "9        department_name_Jackets    0.000000\n",
       "11         department_name_Trend    0.000000"
      ]
     },
     "execution_count": 108,
     "metadata": {},
     "output_type": "execute_result"
    }
   ],
   "source": [
    "feat_importance_df"
   ]
  },
  {
   "cell_type": "markdown",
   "metadata": {},
   "source": [
    "#### 11.1. Fitting Linear Regression Model"
   ]
  },
  {
   "cell_type": "code",
   "execution_count": 109,
   "metadata": {},
   "outputs": [],
   "source": [
    "linear_reg = LinearRegression()"
   ]
  },
  {
   "cell_type": "code",
   "execution_count": 110,
   "metadata": {},
   "outputs": [],
   "source": [
    "regfit = linear_reg.fit(clean_data[top_feats], clean_data['rating'])"
   ]
  },
  {
   "cell_type": "code",
   "execution_count": 111,
   "metadata": {},
   "outputs": [
    {
     "data": {
      "text/plain": [
       "array([ 2.29337071e+00,  7.65501898e-03,  3.34202821e-04, -1.32217013e-02,\n",
       "       -1.73456147e-03])"
      ]
     },
     "execution_count": 111,
     "metadata": {},
     "output_type": "execute_result"
    }
   ],
   "source": [
    "regfit.coef_"
   ]
  },
  {
   "cell_type": "code",
   "execution_count": 112,
   "metadata": {},
   "outputs": [
    {
     "data": {
      "text/html": [
       "<div>\n",
       "<style scoped>\n",
       "    .dataframe tbody tr th:only-of-type {\n",
       "        vertical-align: middle;\n",
       "    }\n",
       "\n",
       "    .dataframe tbody tr th {\n",
       "        vertical-align: top;\n",
       "    }\n",
       "\n",
       "    .dataframe thead th {\n",
       "        text-align: right;\n",
       "    }\n",
       "</style>\n",
       "<table border=\"1\" class=\"dataframe\">\n",
       "  <thead>\n",
       "    <tr style=\"text-align: right;\">\n",
       "      <th></th>\n",
       "      <th>feature</th>\n",
       "      <th>coef</th>\n",
       "    </tr>\n",
       "  </thead>\n",
       "  <tbody>\n",
       "    <tr>\n",
       "      <th>0</th>\n",
       "      <td>recommended_ind</td>\n",
       "      <td>2.293371</td>\n",
       "    </tr>\n",
       "    <tr>\n",
       "      <th>1</th>\n",
       "      <td>division_name_General Petite</td>\n",
       "      <td>0.007655</td>\n",
       "    </tr>\n",
       "    <tr>\n",
       "      <th>2</th>\n",
       "      <td>age</td>\n",
       "      <td>0.000334</td>\n",
       "    </tr>\n",
       "    <tr>\n",
       "      <th>3</th>\n",
       "      <td>department_name_Tops</td>\n",
       "      <td>-0.013222</td>\n",
       "    </tr>\n",
       "    <tr>\n",
       "      <th>4</th>\n",
       "      <td>positive_feedback_count</td>\n",
       "      <td>-0.001735</td>\n",
       "    </tr>\n",
       "  </tbody>\n",
       "</table>\n",
       "</div>"
      ],
      "text/plain": [
       "                        feature      coef\n",
       "0               recommended_ind  2.293371\n",
       "1  division_name_General Petite  0.007655\n",
       "2                           age  0.000334\n",
       "3          department_name_Tops -0.013222\n",
       "4       positive_feedback_count -0.001735"
      ]
     },
     "execution_count": 112,
     "metadata": {},
     "output_type": "execute_result"
    }
   ],
   "source": [
    "pd.DataFrame(list(zip(top_feats,regfit.coef_)), columns=['feature', 'coef'])"
   ]
  },
  {
   "cell_type": "code",
   "execution_count": 113,
   "metadata": {},
   "outputs": [
    {
     "data": {
      "text/plain": [
       "0.6282554287728105"
      ]
     },
     "execution_count": 113,
     "metadata": {},
     "output_type": "execute_result"
    }
   ],
   "source": [
    "regfit.score(clean_data[top_feats], clean_data['rating'])"
   ]
  },
  {
   "cell_type": "code",
   "execution_count": 114,
   "metadata": {},
   "outputs": [],
   "source": [
    "y_fit = regfit.predict(clean_data[top_feats])"
   ]
  },
  {
   "cell_type": "code",
   "execution_count": 115,
   "metadata": {},
   "outputs": [
    {
     "data": {
      "text/plain": [
       "0.6282554287728104"
      ]
     },
     "execution_count": 115,
     "metadata": {},
     "output_type": "execute_result"
    }
   ],
   "source": [
    "r2_score(clean_data['rating'], y_fit)"
   ]
  },
  {
   "cell_type": "markdown",
   "metadata": {},
   "source": [
    "### Future approaches\n",
    "\n",
    "Considering all the previous results, using the regularization for this preliminary project, I just could see a slight improvement.\n",
    "\n",
    "Hence, I believe that some future approaches will provide better results and expand the goals for this project. Some of them are listed below:\n",
    "\n",
    "- Analyze the importance of each feature: Try to understand the coefficients and the importance of the features for the model and the correlation that the features have with the target variable (direct or indirect) and see how the model will perform after this approach. I believe it is important to add features based on feature selection in the step 11 because there are relevant information connected with the target and would improve the final results.\n",
    "\n",
    "\n",
    "- Cross-validation: Another technique that can also be tried along with feature selection techniques to improve the results as well.\n",
    "\n",
    "\n",
    "- Trying some approaches for imbalanced data: As we can see, the dataset shows imbalanced classes for some features. So, I believe that it is important to apply two options to handle imbalanced classes. Even though it's important to consider that information could be lost, I believe that trying different techniques and comparing the final results could be another approach to take.\n",
    "\n",
    "\n",
    "- Tuning the regularization parameter: In this case, I tuned alpha equal to 0.01 and equal to 5. So, it will be interesting to try other iterations to improve model performance. The best way to do it is altered by hyperparameter tuning to arrive at the optimal alpha value."
   ]
  }
 ],
 "metadata": {
  "kernelspec": {
   "display_name": "Python 3",
   "language": "python",
   "name": "python3"
  },
  "language_info": {
   "codemirror_mode": {
    "name": "ipython",
    "version": 3
   },
   "file_extension": ".py",
   "mimetype": "text/x-python",
   "name": "python",
   "nbconvert_exporter": "python",
   "pygments_lexer": "ipython3",
   "version": "3.7.3"
  }
 },
 "nbformat": 4,
 "nbformat_minor": 2
}
